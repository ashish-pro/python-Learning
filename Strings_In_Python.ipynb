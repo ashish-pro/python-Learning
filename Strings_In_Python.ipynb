{
  "nbformat": 4,
  "nbformat_minor": 0,
  "metadata": {
    "colab": {
      "provenance": [],
      "authorship_tag": "ABX9TyM581Wc4/q6pkpb5fbCnCun",
      "include_colab_link": true
    },
    "kernelspec": {
      "name": "python3",
      "display_name": "Python 3"
    },
    "language_info": {
      "name": "python"
    }
  },
  "cells": [
    {
      "cell_type": "markdown",
      "metadata": {
        "id": "view-in-github",
        "colab_type": "text"
      },
      "source": [
        "<a href=\"https://colab.research.google.com/github/ashish-pro/python-Learning/blob/master/Strings_In_Python.ipynb\" target=\"_parent\"><img src=\"https://colab.research.google.com/assets/colab-badge.svg\" alt=\"Open In Colab\"/></a>"
      ]
    },
    {
      "cell_type": "markdown",
      "source": [
        "# Strings in Python\n",
        "\n",
        "\n",
        "*   Strings in python are the sequence of uncode characters\n",
        "*   We can use single quotes or double quotes to represent strings\n",
        "\n",
        "\n",
        "*   Multi-line strings can be represented by using triple quotes \n",
        "*   A string in python is consist of a series or sequence of characgers - letters, numbers and special characters\n",
        "\n",
        "\n",
        "*   String can be indexed with 0 which is first character\n",
        "\n",
        "\n",
        "\n",
        "\n",
        "\n",
        "\n"
      ],
      "metadata": {
        "id": "oeA5S_2aY3fV"
      }
    },
    {
      "cell_type": "code",
      "execution_count": null,
      "metadata": {
        "colab": {
          "base_uri": "https://localhost:8080/"
        },
        "id": "iGihmY6cYq8K",
        "outputId": "e0ce12fd-442c-434a-9162-4fb0afd57f2d"
      },
      "outputs": [
        {
          "output_type": "stream",
          "name": "stdout",
          "text": [
            "welcome\n",
            "<class 'str'>\n"
          ]
        }
      ],
      "source": [
        "# For example\n",
        "my_str = 'welcome'\n",
        "print(my_str)\n",
        "print(type(my_str))"
      ]
    },
    {
      "cell_type": "markdown",
      "source": [
        "**Indexing a String:-**\n",
        "\n",
        "*   Accessing one character based on the position\n",
        "\n"
      ],
      "metadata": {
        "id": "5AVypMUma0IZ"
      }
    },
    {
      "cell_type": "code",
      "source": [
        "# Fetch the first element of String\n",
        "print(my_str[0])"
      ],
      "metadata": {
        "colab": {
          "base_uri": "https://localhost:8080/"
        },
        "id": "YEFuRkIVbQjc",
        "outputId": "0ad504af-5ac0-449d-8d33-0c68d7e80992"
      },
      "execution_count": null,
      "outputs": [
        {
          "output_type": "stream",
          "name": "stdout",
          "text": [
            "w\n"
          ]
        }
      ]
    },
    {
      "cell_type": "code",
      "source": [
        "# Fetch the second element of String\n",
        "print(my_str[1])"
      ],
      "metadata": {
        "colab": {
          "base_uri": "https://localhost:8080/"
        },
        "id": "czsJE5tnarGe",
        "outputId": "95ca9692-3983-4f9d-f3cc-6f947be9d6eb"
      },
      "execution_count": null,
      "outputs": [
        {
          "output_type": "stream",
          "name": "stdout",
          "text": [
            "e\n"
          ]
        }
      ]
    },
    {
      "cell_type": "markdown",
      "source": [
        "**Note: len() function** is used to find length of string"
      ],
      "metadata": {
        "id": "XngzkvNXciNl"
      }
    },
    {
      "cell_type": "code",
      "source": [
        "print(len(my_str))"
      ],
      "metadata": {
        "colab": {
          "base_uri": "https://localhost:8080/"
        },
        "id": "FsZhOADTcfWq",
        "outputId": "f010c092-f39e-4ccd-b301-5b5bdec45f6c"
      },
      "execution_count": null,
      "outputs": [
        {
          "output_type": "stream",
          "name": "stdout",
          "text": [
            "7\n"
          ]
        }
      ]
    },
    {
      "cell_type": "code",
      "source": [
        "# Print the last character of string\n",
        "print(my_str[6])"
      ],
      "metadata": {
        "colab": {
          "base_uri": "https://localhost:8080/"
        },
        "id": "25PGHDtJc1UA",
        "outputId": "c004ca96-a11b-4002-9be0-24b717db1f3d"
      },
      "execution_count": null,
      "outputs": [
        {
          "output_type": "stream",
          "name": "stdout",
          "text": [
            "e\n"
          ]
        }
      ]
    },
    {
      "cell_type": "code",
      "source": [
        "# Print the last character of string \n",
        "# to be more generalize\n",
        "print(my_str[len(my_str)-1])"
      ],
      "metadata": {
        "colab": {
          "base_uri": "https://localhost:8080/"
        },
        "id": "r5AL4rkwdGb_",
        "outputId": "768e658d-a444-4c5e-b816-f3a9b3d3a0c5"
      },
      "execution_count": null,
      "outputs": [
        {
          "output_type": "stream",
          "name": "stdout",
          "text": [
            "e\n"
          ]
        }
      ]
    },
    {
      "cell_type": "markdown",
      "source": [
        "**Negative Indexing:-**\n",
        "\n",
        "\n",
        "*   writing len(my_str) is optinal\n",
        "\n",
        "**For example :**  *my_str[len(my_str)-1] is same as my_str[-1]*\n",
        "\n",
        "* That's how python give rise to negative index\n",
        "\n",
        "\n",
        "\n",
        "\n",
        "\n",
        "\n"
      ],
      "metadata": {
        "id": "nbqF01FTdgAJ"
      }
    },
    {
      "cell_type": "code",
      "source": [
        "print(my_str[-1])"
      ],
      "metadata": {
        "colab": {
          "base_uri": "https://localhost:8080/"
        },
        "id": "M-luaQZXdeCJ",
        "outputId": "84670b6b-6fdf-427c-af93-afbeb99f46fe"
      },
      "execution_count": null,
      "outputs": [
        {
          "output_type": "stream",
          "name": "stdout",
          "text": [
            "e\n"
          ]
        }
      ]
    },
    {
      "cell_type": "markdown",
      "source": [
        "**String Slicing:-**\n",
        "\n",
        "*   extracting multiple characters from a string(substring)\n",
        "* **Syntax:**\n",
        "```\n",
        "str[start_index : end_index + 1]\n",
        "```\n",
        "\n",
        "\n",
        "\n"
      ],
      "metadata": {
        "id": "47YSiE2netKl"
      }
    },
    {
      "cell_type": "code",
      "source": [
        "my_str = \"welcome to city\"\n",
        "print(my_str[0:7])"
      ],
      "metadata": {
        "colab": {
          "base_uri": "https://localhost:8080/"
        },
        "id": "gaMwxOglfYOy",
        "outputId": "aa95f776-b80f-46dd-c49d-8c3e5a6a7931"
      },
      "execution_count": null,
      "outputs": [
        {
          "output_type": "stream",
          "name": "stdout",
          "text": [
            "welcome\n"
          ]
        }
      ]
    },
    {
      "cell_type": "code",
      "source": [
        "print(my_str[4:15])"
      ],
      "metadata": {
        "colab": {
          "base_uri": "https://localhost:8080/"
        },
        "id": "qyay2GNkeli4",
        "outputId": "7b2ba57e-9308-4fe2-948e-0eed098a3a20"
      },
      "execution_count": null,
      "outputs": [
        {
          "output_type": "stream",
          "name": "stdout",
          "text": [
            "ome to city\n"
          ]
        }
      ]
    },
    {
      "cell_type": "code",
      "source": [
        "# Print all the characters except the last one\n",
        "print(my_str[0:-1])"
      ],
      "metadata": {
        "colab": {
          "base_uri": "https://localhost:8080/"
        },
        "id": "N8KTAv2gpuXk",
        "outputId": "020fda6a-c93b-450f-83b8-f80b9ac61568"
      },
      "execution_count": null,
      "outputs": [
        {
          "output_type": "stream",
          "name": "stdout",
          "text": [
            "welcome to cit\n"
          ]
        }
      ]
    },
    {
      "cell_type": "code",
      "source": [
        "# We can add step size in string slicing\n",
        "# syntax:  str[start_index:end_index:step-size]\n",
        "# by default step-size is 1\n",
        "print(my_str[2:14:2])"
      ],
      "metadata": {
        "colab": {
          "base_uri": "https://localhost:8080/"
        },
        "id": "SuVE7sVtp8oQ",
        "outputId": "6e0b5539-aa59-4c16-841b-da2dadc07801"
      },
      "execution_count": null,
      "outputs": [
        {
          "output_type": "stream",
          "name": "stdout",
          "text": [
            "loet i\n"
          ]
        }
      ]
    },
    {
      "cell_type": "code",
      "source": [
        "print(my_str[15:2:-2])"
      ],
      "metadata": {
        "colab": {
          "base_uri": "https://localhost:8080/"
        },
        "id": "1JyrCWTOqbJD",
        "outputId": "8bf10fe5-8301-4a13-d8e1-2f0b377979d7"
      },
      "execution_count": null,
      "outputs": [
        {
          "output_type": "stream",
          "name": "stdout",
          "text": [
            "yi teo\n"
          ]
        }
      ]
    },
    {
      "cell_type": "code",
      "source": [
        "# Quick Hack to reverse a string\n",
        "print(my_str[::-1])"
      ],
      "metadata": {
        "colab": {
          "base_uri": "https://localhost:8080/"
        },
        "id": "LdvIRysGqpyA",
        "outputId": "2e0d60d8-6513-4510-d3b5-9e38222058f7"
      },
      "execution_count": null,
      "outputs": [
        {
          "output_type": "stream",
          "name": "stdout",
          "text": [
            "ytic ot emoclew\n"
          ]
        }
      ]
    },
    {
      "cell_type": "code",
      "source": [
        "print(my_str[::])"
      ],
      "metadata": {
        "colab": {
          "base_uri": "https://localhost:8080/"
        },
        "id": "D_0HwkCcq4hs",
        "outputId": "3cd46b30-90a7-4655-c92e-e8cbef67387c"
      },
      "execution_count": null,
      "outputs": [
        {
          "output_type": "stream",
          "name": "stdout",
          "text": [
            "welcome to city\n"
          ]
        }
      ]
    },
    {
      "cell_type": "markdown",
      "source": [
        "**Important Strings Methods:-**"
      ],
      "metadata": {
        "id": "FY-nukOLrEMo"
      }
    },
    {
      "cell_type": "code",
      "source": [
        "st = \"Welcome to Bangalore\""
      ],
      "metadata": {
        "id": "U3OAuhgSq-in"
      },
      "execution_count": null,
      "outputs": []
    },
    {
      "cell_type": "code",
      "source": [
        "# Converts everything in lowercase\n",
        "print(st.lower())"
      ],
      "metadata": {
        "colab": {
          "base_uri": "https://localhost:8080/"
        },
        "id": "IcAlQuuZrbeT",
        "outputId": "1be5f4cd-089e-4492-993a-366cd4627aee"
      },
      "execution_count": null,
      "outputs": [
        {
          "output_type": "stream",
          "name": "stdout",
          "text": [
            "welcome to bangalore\n"
          ]
        }
      ]
    },
    {
      "cell_type": "code",
      "source": [
        "# Converts everything in uppercase\n",
        "print(st.upper())"
      ],
      "metadata": {
        "colab": {
          "base_uri": "https://localhost:8080/"
        },
        "id": "xTg1HjjZrsUF",
        "outputId": "24d57b0c-e289-426d-aab0-db1083662eff"
      },
      "execution_count": null,
      "outputs": [
        {
          "output_type": "stream",
          "name": "stdout",
          "text": [
            "WELCOME TO BANGALORE\n"
          ]
        }
      ]
    },
    {
      "cell_type": "code",
      "source": [
        "# Capital first character of each words\n",
        "print(st.title())"
      ],
      "metadata": {
        "colab": {
          "base_uri": "https://localhost:8080/"
        },
        "id": "zKhMZAHtr6_V",
        "outputId": "ae6e89ea-345f-4c96-8fd4-2a2cd981556f"
      },
      "execution_count": null,
      "outputs": [
        {
          "output_type": "stream",
          "name": "stdout",
          "text": [
            "Welcome To Bangalore\n"
          ]
        }
      ]
    },
    {
      "cell_type": "code",
      "source": [
        "# Returns the index of first occrence of word, otherwise -1\n",
        "print(st.find(\"come\"))"
      ],
      "metadata": {
        "colab": {
          "base_uri": "https://localhost:8080/"
        },
        "id": "mU4KDcn0sOHA",
        "outputId": "0c456dbe-0b45-4736-a856-2be1ce7ddc69"
      },
      "execution_count": null,
      "outputs": [
        {
          "output_type": "stream",
          "name": "stdout",
          "text": [
            "3\n"
          ]
        }
      ]
    },
    {
      "cell_type": "code",
      "source": [
        "# find() retuns -1, when the i/p is not present\n",
        "print(st.find(\"machine\"))"
      ],
      "metadata": {
        "colab": {
          "base_uri": "https://localhost:8080/"
        },
        "id": "N_X6yUG9shNH",
        "outputId": "a44221a9-3712-4c0a-f16f-262a7942d50f"
      },
      "execution_count": null,
      "outputs": [
        {
          "output_type": "stream",
          "name": "stdout",
          "text": [
            "-1\n"
          ]
        }
      ]
    },
    {
      "cell_type": "code",
      "source": [
        "# Split the string with space \" \", and creates a list\n",
        "print(st.split())"
      ],
      "metadata": {
        "colab": {
          "base_uri": "https://localhost:8080/"
        },
        "id": "quIHFU0js1Uu",
        "outputId": "dcf3bcc2-0adb-4c26-896e-99ae7311a6a9"
      },
      "execution_count": null,
      "outputs": [
        {
          "output_type": "stream",
          "name": "stdout",
          "text": [
            "['Welcome', 'to', 'Bangalore']\n"
          ]
        }
      ]
    },
    {
      "cell_type": "code",
      "source": [
        "# Count the number of times a string is appearing\n",
        "print(st.count(\"o\"))"
      ],
      "metadata": {
        "colab": {
          "base_uri": "https://localhost:8080/"
        },
        "id": "-gIMqnzotKEY",
        "outputId": "85b14b5f-7585-4e89-e68d-f917a12fccf7"
      },
      "execution_count": null,
      "outputs": [
        {
          "output_type": "stream",
          "name": "stdout",
          "text": [
            "3\n"
          ]
        }
      ]
    },
    {
      "cell_type": "code",
      "source": [
        "# Replace original string with new string\n",
        "print(st.replace(\"Bangalore\",\"Delhi\"))"
      ],
      "metadata": {
        "colab": {
          "base_uri": "https://localhost:8080/"
        },
        "id": "gVC_bYbktcOn",
        "outputId": "5473a879-8336-4f46-cb77-da094d6e2e50"
      },
      "execution_count": null,
      "outputs": [
        {
          "output_type": "stream",
          "name": "stdout",
          "text": [
            "Welcome to Delhi\n"
          ]
        }
      ]
    },
    {
      "cell_type": "code",
      "source": [
        "# If i write a program to ask enter string from user, Suppose by mistake \n",
        "# user adds some extra whitespace on both left and right side\n",
        "# To remove these white spaces we use strip function\n",
        "\n",
        "new_str = input(\"Enter your String: \")\n"
      ],
      "metadata": {
        "colab": {
          "base_uri": "https://localhost:8080/"
        },
        "id": "SAeT2QK2tyM-",
        "outputId": "bc8f856a-83a9-4742-e7e5-9db1cd56d2c6"
      },
      "execution_count": null,
      "outputs": [
        {
          "name": "stdout",
          "output_type": "stream",
          "text": [
            "Enter your String:     python is fun      \n"
          ]
        }
      ]
    },
    {
      "cell_type": "code",
      "source": [
        "# lstrip() ------- Removes whitespaces from left side\n",
        "print(new_str.lstrip())"
      ],
      "metadata": {
        "colab": {
          "base_uri": "https://localhost:8080/"
        },
        "id": "VaQJwSEfuvki",
        "outputId": "a5335c18-34a9-485f-8e5b-b500814ecdcc"
      },
      "execution_count": null,
      "outputs": [
        {
          "output_type": "stream",
          "name": "stdout",
          "text": [
            "python is fun      \n"
          ]
        }
      ]
    },
    {
      "cell_type": "code",
      "source": [
        "# rstrip() ------- Removes whitespaces from right side\n",
        "print(new_str.rstrip())"
      ],
      "metadata": {
        "colab": {
          "base_uri": "https://localhost:8080/"
        },
        "id": "gV2ZeZo-vaEe",
        "outputId": "6e32234c-67fa-4e65-cc2c-6cb69aa490a9"
      },
      "execution_count": null,
      "outputs": [
        {
          "output_type": "stream",
          "name": "stdout",
          "text": [
            "    python is fun\n"
          ]
        }
      ]
    },
    {
      "cell_type": "code",
      "source": [
        "# strip() ------- Removes whitespaces from both side\n",
        "print(new_str.strip())"
      ],
      "metadata": {
        "colab": {
          "base_uri": "https://localhost:8080/"
        },
        "id": "Xx6fFD97vh63",
        "outputId": "5b49bd96-1ea5-4355-9137-2392ded29077"
      },
      "execution_count": null,
      "outputs": [
        {
          "output_type": "stream",
          "name": "stdout",
          "text": [
            "python is fun\n"
          ]
        }
      ]
    },
    {
      "cell_type": "markdown",
      "source": [
        "**Few Operations on Strings:-**"
      ],
      "metadata": {
        "id": "GEj9h4gUv2rv"
      }
    },
    {
      "cell_type": "code",
      "source": [
        "# Concatination of two strings\n",
        "print(\"abc\"+\"pqr\")"
      ],
      "metadata": {
        "colab": {
          "base_uri": "https://localhost:8080/"
        },
        "id": "aenNl7J0vpy3",
        "outputId": "bcdc7573-4187-409a-ff65-27a5c34512de"
      },
      "execution_count": null,
      "outputs": [
        {
          "output_type": "stream",
          "name": "stdout",
          "text": [
            "abcpqr\n"
          ]
        }
      ]
    },
    {
      "cell_type": "code",
      "source": [
        "# can't cancatinate with other data type\n",
        "print(\"abc\"+3)"
      ],
      "metadata": {
        "colab": {
          "base_uri": "https://localhost:8080/",
          "height": 183
        },
        "id": "Ahhn9DozwIuG",
        "outputId": "e264aae7-f4fd-402d-e66f-aa5ad046f78e"
      },
      "execution_count": null,
      "outputs": [
        {
          "output_type": "error",
          "ename": "TypeError",
          "evalue": "ignored",
          "traceback": [
            "\u001b[0;31m---------------------------------------------------------------------------\u001b[0m",
            "\u001b[0;31mTypeError\u001b[0m                                 Traceback (most recent call last)",
            "\u001b[0;32m<ipython-input-22-cdd840e654b0>\u001b[0m in \u001b[0;36m<module>\u001b[0;34m\u001b[0m\n\u001b[1;32m      1\u001b[0m \u001b[0;31m# can't cancatinate with other data type\u001b[0m\u001b[0;34m\u001b[0m\u001b[0;34m\u001b[0m\u001b[0;34m\u001b[0m\u001b[0m\n\u001b[0;32m----> 2\u001b[0;31m \u001b[0mprint\u001b[0m\u001b[0;34m(\u001b[0m\u001b[0;34m\"abc\"\u001b[0m\u001b[0;34m+\u001b[0m\u001b[0;36m3\u001b[0m\u001b[0;34m)\u001b[0m\u001b[0;34m\u001b[0m\u001b[0;34m\u001b[0m\u001b[0m\n\u001b[0m",
            "\u001b[0;31mTypeError\u001b[0m: can only concatenate str (not \"int\") to str"
          ]
        }
      ]
    },
    {
      "cell_type": "code",
      "source": [
        "# can't cancatinate with other data type:- typecast to solve this problem\n",
        "print(\"abc\"+str(3))"
      ],
      "metadata": {
        "colab": {
          "base_uri": "https://localhost:8080/"
        },
        "id": "BA16de4uwYPS",
        "outputId": "e41658d5-8862-455e-c6ae-3fdeb26e5d54"
      },
      "execution_count": null,
      "outputs": [
        {
          "output_type": "stream",
          "name": "stdout",
          "text": [
            "abc3\n"
          ]
        }
      ]
    },
    {
      "cell_type": "code",
      "source": [
        "# Multipliaction of string with int n results into repetation string n times\n",
        "print(\"hello\"*3)"
      ],
      "metadata": {
        "colab": {
          "base_uri": "https://localhost:8080/"
        },
        "id": "y1tb4whRwnnd",
        "outputId": "b6219812-83c2-40bb-eb82-933d3cddc25d"
      },
      "execution_count": null,
      "outputs": [
        {
          "output_type": "stream",
          "name": "stdout",
          "text": [
            "hellohellohello\n"
          ]
        }
      ]
    },
    {
      "cell_type": "code",
      "source": [
        "# Find the number of  Vowels in a string\n",
        "print(\"Enter the string: \")\n",
        "inp_str = input()\n",
        "count = 0\n",
        "for i in inp_str:\n",
        "  if i in \"aeiouAEIOU\":\n",
        "    count += 1\n",
        "print(\"Number of vowels present in the string are : \", count)\n"
      ],
      "metadata": {
        "colab": {
          "base_uri": "https://localhost:8080/"
        },
        "id": "01cogj9Jw6yt",
        "outputId": "bf91e817-c58b-4109-ba0a-245b488be55a"
      },
      "execution_count": null,
      "outputs": [
        {
          "output_type": "stream",
          "name": "stdout",
          "text": [
            "Enter the string: \n",
            "aeiouauauauauauauauauuauaaAAAAAOOOOIIII\n",
            "Number of vowels present in the string are :  39\n"
          ]
        }
      ]
    },
    {
      "cell_type": "code",
      "source": [
        "# Check Wether the given string is palindrome or not?\n",
        "# For example: \"madam\" is palindrome\n",
        "# e.g: \"coding\" is not palindrome\n",
        "print(\"Enter the string: \")\n",
        "input_str = input()\n",
        "rev_str = input_str[::-1]\n",
        "if(input_str == rev_str):\n",
        "  print(\"{} is palindrome\".format(input_str))\n",
        "else:\n",
        "  print(\"{} is nat a palindrome\".format(input_str))"
      ],
      "metadata": {
        "colab": {
          "base_uri": "https://localhost:8080/"
        },
        "id": "X5eib5bAyFSl",
        "outputId": "f89417c5-52ad-4df6-8407-e07072b46d4e"
      },
      "execution_count": null,
      "outputs": [
        {
          "output_type": "stream",
          "name": "stdout",
          "text": [
            "Enter the string: \n",
            "coding\n",
            "coding is nat a palindrome\n"
          ]
        }
      ]
    },
    {
      "cell_type": "code",
      "source": [
        "# Another method to find Palindrome\n",
        "print(\"Enter the string: \")\n",
        "in_str = input()\n",
        "rev_str =\"\"\n",
        "for i in in_str:\n",
        "  rev_str = i + rev_str\n",
        "if(in_str == rev_str):\n",
        "  print(\"{} is palindrome\".format(in_str))\n",
        "else:\n",
        "  print(\"{} is nat a palindrome\".format(in_str))"
      ],
      "metadata": {
        "colab": {
          "base_uri": "https://localhost:8080/"
        },
        "id": "_fRrweWkz4iL",
        "outputId": "1d818e9e-296f-4704-baf8-3c4e601af333"
      },
      "execution_count": null,
      "outputs": [
        {
          "output_type": "stream",
          "name": "stdout",
          "text": [
            "Enter the string: \n",
            "madam\n",
            "madam is palindrome\n"
          ]
        }
      ]
    },
    {
      "cell_type": "markdown",
      "source": [
        "**For more interview Questions**[click here](https://colab.research.google.com/drive/1KJF1fFw-CisQs6R0JWEXR4a0RvlzU0NG)"
      ],
      "metadata": {
        "id": "h7usJU-_3f3W"
      }
    }
  ]
}