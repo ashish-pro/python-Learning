{
  "nbformat": 4,
  "nbformat_minor": 0,
  "metadata": {
    "colab": {
      "provenance": [],
      "authorship_tag": "ABX9TyPlompCo4HheooHuGpa4dDF",
      "include_colab_link": true
    },
    "kernelspec": {
      "name": "python3",
      "display_name": "Python 3"
    },
    "language_info": {
      "name": "python"
    }
  },
  "cells": [
    {
      "cell_type": "markdown",
      "metadata": {
        "id": "view-in-github",
        "colab_type": "text"
      },
      "source": [
        "<a href=\"https://colab.research.google.com/github/ashish-pro/python-Learning/blob/master/Python_Basics_.ipynb\" target=\"_parent\"><img src=\"https://colab.research.google.com/assets/colab-badge.svg\" alt=\"Open In Colab\"/></a>"
      ]
    },
    {
      "cell_type": "markdown",
      "source": [
        "**Output the values in python** *-- print()*"
      ],
      "metadata": {
        "id": "YuEthd26Nz1K"
      }
    },
    {
      "cell_type": "code",
      "execution_count": null,
      "metadata": {
        "colab": {
          "base_uri": "https://localhost:8080/"
        },
        "id": "N3ip5-maNcJe",
        "outputId": "caf857dd-cd5f-4094-d4af-28f8bf29d168"
      },
      "outputs": [
        {
          "output_type": "stream",
          "name": "stdout",
          "text": [
            "Hello Python\n"
          ]
        }
      ],
      "source": [
        "print(\"Hello Python\")"
      ]
    },
    {
      "cell_type": "markdown",
      "source": [
        "You can print multiple objects seperated by comma."
      ],
      "metadata": {
        "id": "hBb78neePFTd"
      }
    },
    {
      "cell_type": "code",
      "source": [
        "print(\"Python\",\"Data Science\",\"'SQL\",100)"
      ],
      "metadata": {
        "colab": {
          "base_uri": "https://localhost:8080/"
        },
        "id": "amV_-sKuPPRV",
        "outputId": "f8726fa1-7bed-447f-b635-a254861580ba"
      },
      "execution_count": null,
      "outputs": [
        {
          "output_type": "stream",
          "name": "stdout",
          "text": [
            "Python Data Science 'SQL 100\n"
          ]
        }
      ]
    },
    {
      "cell_type": "markdown",
      "source": [
        "**Commenting in python**\n",
        "\n",
        "1- # This is a comment"
      ],
      "metadata": {
        "id": "6uCTq0pXOiUW"
      }
    },
    {
      "cell_type": "code",
      "source": [
        "print(\"Hello Python\")\n",
        "#print(\"This is a comment\")"
      ],
      "metadata": {
        "colab": {
          "base_uri": "https://localhost:8080/"
        },
        "id": "EqCqE-BnOdi7",
        "outputId": "3bdee497-a92d-4eb0-eb6d-c8d230e7208b"
      },
      "execution_count": null,
      "outputs": [
        {
          "output_type": "stream",
          "name": "stdout",
          "text": [
            "Hello Python\n"
          ]
        }
      ]
    },
    {
      "cell_type": "markdown",
      "source": [
        "**Declaring the variables and find its data types:**\n",
        "\n",
        "To find the data type of veriable we use type() function"
      ],
      "metadata": {
        "id": "Aqn331uOPmJC"
      }
    },
    {
      "cell_type": "code",
      "source": [
        "#declaring variable\n",
        "num = 100\n",
        "# finding datatype\n",
        "type(num)"
      ],
      "metadata": {
        "colab": {
          "base_uri": "https://localhost:8080/"
        },
        "id": "LesTGi79PD-c",
        "outputId": "d6334344-883c-4c96-dde5-a0ea69fc7994"
      },
      "execution_count": null,
      "outputs": [
        {
          "output_type": "execute_result",
          "data": {
            "text/plain": [
              "int"
            ]
          },
          "metadata": {},
          "execution_count": 4
        }
      ]
    },
    {
      "cell_type": "markdown",
      "source": [
        "**Basics Datatypes :-**     *Every value in python has a datatype. Since everything is an object in python programming, datatypes are actually classes and variables are instance(object) of these classes.*\n",
        "\n",
        "**Some datatypes are :-** int, float, string, boolean, None"
      ],
      "metadata": {
        "id": "TocTUAErQRcP"
      }
    },
    {
      "cell_type": "markdown",
      "source": [
        "\n",
        "\n",
        "*   **input():-** function is use to take input from the user. It always returns a *string* value\n",
        "*   **type-casting:-** converts one datatype into another\n",
        "\n"
      ],
      "metadata": {
        "id": "NJwCoMBzRfYM"
      }
    },
    {
      "cell_type": "code",
      "source": [
        "# input from keyboard\n",
        "name = input()\n",
        "print(name)"
      ],
      "metadata": {
        "colab": {
          "base_uri": "https://localhost:8080/"
        },
        "id": "WCd7wmCfSVFN",
        "outputId": "1da7ba9e-2bb2-4b06-e034-b4ac59c10034"
      },
      "execution_count": null,
      "outputs": [
        {
          "output_type": "stream",
          "name": "stdout",
          "text": [
            "Rohit\n",
            "Rohit\n"
          ]
        }
      ]
    },
    {
      "cell_type": "code",
      "source": [
        "\n",
        "num = '8'\n",
        "print(num)\n",
        "print(type(num))"
      ],
      "metadata": {
        "colab": {
          "base_uri": "https://localhost:8080/"
        },
        "id": "Uq9WeawjStyw",
        "outputId": "e1b4e67f-102f-4d76-db06-c69ef2e2d0a4"
      },
      "execution_count": null,
      "outputs": [
        {
          "output_type": "stream",
          "name": "stdout",
          "text": [
            "8\n",
            "<class 'str'>\n"
          ]
        }
      ]
    },
    {
      "cell_type": "markdown",
      "source": [
        "In the above code type() retuned as 'str'. But we need num as integer to perform mthematical operation, So we do typecasting."
      ],
      "metadata": {
        "id": "yzBaaeenTEya"
      }
    },
    {
      "cell_type": "code",
      "source": [
        "#typecasting\n",
        "num = int(num)\n",
        "print(type(num))\n",
        "print(num)"
      ],
      "metadata": {
        "colab": {
          "base_uri": "https://localhost:8080/"
        },
        "id": "INk2wjSOTDk_",
        "outputId": "51fe350b-fdb2-460a-c8cd-22f64681c9e3"
      },
      "execution_count": null,
      "outputs": [
        {
          "output_type": "stream",
          "name": "stdout",
          "text": [
            "<class 'int'>\n",
            "8\n"
          ]
        }
      ]
    },
    {
      "cell_type": "markdown",
      "source": [
        "**Output Formatting :-**"
      ],
      "metadata": {
        "id": "Sz0em3r4TuuW"
      }
    },
    {
      "cell_type": "code",
      "source": [
        "a = 10\n",
        "b= 20\n",
        "print(\"The value of a is {} and b is {} \".format(a,b))"
      ],
      "metadata": {
        "colab": {
          "base_uri": "https://localhost:8080/"
        },
        "id": "1EZ16EviQJ2r",
        "outputId": "c2bdb422-6b2e-4a65-c5a2-bd50c5046f09"
      },
      "execution_count": null,
      "outputs": [
        {
          "output_type": "stream",
          "name": "stdout",
          "text": [
            "The value of a is 10 and b is 20 \n"
          ]
        }
      ]
    },
    {
      "cell_type": "markdown",
      "source": [
        "We can also specify the position of placeholder. *The greater is value the later will place.*\n",
        "\n",
        "For above code, we can write print statement as follows."
      ],
      "metadata": {
        "id": "gJZiRXyhUQZF"
      }
    },
    {
      "cell_type": "code",
      "source": [
        "a = 10\n",
        "b= 20\n",
        "print(\"The value of a is {1} and b is {0} \".format(a,b))"
      ],
      "metadata": {
        "colab": {
          "base_uri": "https://localhost:8080/"
        },
        "id": "wMxjQyeeUL1M",
        "outputId": "c8bd6555-caef-4f90-abe0-695761cacf4d"
      },
      "execution_count": null,
      "outputs": [
        {
          "output_type": "stream",
          "name": "stdout",
          "text": [
            "The value of a is 20 and b is 10 \n"
          ]
        }
      ]
    },
    {
      "cell_type": "code",
      "source": [
        "# Another example of output fromatting\n",
        "name = input()\n",
        "greetings = \"Good Morinng\"\n",
        "print(\"Hello {n},{g}!. Welcome to python learning by Ashish\".format(n=name,g=greetings))"
      ],
      "metadata": {
        "colab": {
          "base_uri": "https://localhost:8080/"
        },
        "id": "RaAwfuHuU844",
        "outputId": "9c9e8a21-b218-4963-baf3-3889ff0fd8c3"
      },
      "execution_count": null,
      "outputs": [
        {
          "output_type": "stream",
          "name": "stdout",
          "text": [
            "Rohit\n",
            "Hello Rohit,Good Morinng!. Welcome to python learning by Ashish\n"
          ]
        }
      ]
    },
    {
      "cell_type": "markdown",
      "source": [
        "**Python Statements:-**\n",
        "\n",
        "Instructions that a python interpreter can execute are clled statements."
      ],
      "metadata": {
        "id": "nFQ6SCUvV_yu"
      }
    },
    {
      "cell_type": "code",
      "source": [
        "# Single Line statement\n",
        "num = 5"
      ],
      "metadata": {
        "id": "EDfF--HVWdQe"
      },
      "execution_count": null,
      "outputs": []
    },
    {
      "cell_type": "code",
      "source": [
        "# Multiline Statement\n",
        "num = 1+2+3+\\\n",
        "4+5+6+\\\n",
        "7+8\n",
        "print(num)"
      ],
      "metadata": {
        "colab": {
          "base_uri": "https://localhost:8080/"
        },
        "id": "zBMAuKWMVtnl",
        "outputId": "f6df4628-62c0-4448-e224-46bd9e48aecf"
      },
      "execution_count": null,
      "outputs": [
        {
          "output_type": "stream",
          "name": "stdout",
          "text": [
            "36\n"
          ]
        }
      ]
    },
    {
      "cell_type": "markdown",
      "source": [
        "**Operators In Python**"
      ],
      "metadata": {
        "id": "EJup-8oIYyvo"
      }
    },
    {
      "cell_type": "code",
      "source": [
        "# Arithmetic Operators:- +,  -, *,  /,  //, **, %\n"
      ],
      "metadata": {
        "id": "ZxBcBx-YYw1Z"
      },
      "execution_count": null,
      "outputs": []
    },
    {
      "cell_type": "markdown",
      "source": [
        "**Note:**\n",
        "\n",
        "In arithmetic operator **/-(division)** always results in ***float***.\n",
        "\n",
        "**floor-division** : always takes ***integer*** and represented ***by //***\n",
        "\n",
        "**exponential** - represented by **\n",
        "\n",
        "**modulus operator(%)** - return ***remainder***"
      ],
      "metadata": {
        "id": "KU_7t_AIZVqU"
      }
    },
    {
      "cell_type": "code",
      "source": [
        "a = 12\n",
        "b = 3\n",
        "add = a + b\n",
        "sub = a-b\n",
        "mul = a*b\n",
        "div = a/b\n",
        "f_div = a // b\n",
        "exp = a ** b\n",
        "mod = a % b\n",
        "print(\"a+b = {}\".format(add))\n",
        "print(\"a-b = {}\".format(sub))\n",
        "print(\"a*b = {}\".format(mul))\n",
        "print(\"a/b = {}\".format(div))\n",
        "print(\"a//b = {}\".format(f_div))\n",
        "print(\"a**b = {}\".format(exp))\n",
        "print(\"a%b = {}\".format(mod))"
      ],
      "metadata": {
        "colab": {
          "base_uri": "https://localhost:8080/"
        },
        "id": "F3mu2qVka2Zm",
        "outputId": "2fe9af31-d307-4c7a-d328-4afdf825bc1d"
      },
      "execution_count": null,
      "outputs": [
        {
          "output_type": "stream",
          "name": "stdout",
          "text": [
            "a+b = 15\n",
            "a-b = 9\n",
            "a*b = 36\n",
            "a/b = 4.0\n",
            "a//b = 4\n",
            "a**b = 1728\n",
            "a%b = 0\n"
          ]
        }
      ]
    },
    {
      "cell_type": "markdown",
      "source": [
        "**Comparision Operators:-**\n",
        "\n",
        "This results returned by comparision operator is always boolean"
      ],
      "metadata": {
        "id": "8FtMCcgccNqJ"
      }
    },
    {
      "cell_type": "code",
      "source": [
        "# Comparision Operators  >, <,  >=, <=, ==, !=\n",
        "\n",
        "n = 12\n",
        "b = 3\n",
        "print(n>b)\n",
        "print(n<b)\n",
        "print(n>=b)\n",
        "print(n<=b)\n",
        "print(n==b)\n",
        "print(n!=b)"
      ],
      "metadata": {
        "colab": {
          "base_uri": "https://localhost:8080/"
        },
        "id": "J-_hh-GgcHRJ",
        "outputId": "ee6e55bf-92d4-495b-8798-7e09f039b300"
      },
      "execution_count": null,
      "outputs": [
        {
          "output_type": "stream",
          "name": "stdout",
          "text": [
            "True\n",
            "False\n",
            "True\n",
            "False\n",
            "False\n",
            "True\n"
          ]
        }
      ]
    },
    {
      "cell_type": "markdown",
      "source": [
        "**Logical Operators:**\n",
        "\n",
        "**and :-** return true when both conditions are true, otherwise false\n",
        "\n",
        "**or :-** return True, even when one of the condition is True. False if both condition are false.\n",
        "\n",
        "**not :-** return negation"
      ],
      "metadata": {
        "id": "7u_RGtIcdmYK"
      }
    },
    {
      "cell_type": "markdown",
      "source": [
        "**Assignment Operators:**"
      ],
      "metadata": {
        "id": "h5LC34zOeZVp"
      }
    },
    {
      "cell_type": "code",
      "source": [
        "a = 5    # assigning value 5 to variable a\n",
        "a = a+1\n",
        "print(a)"
      ],
      "metadata": {
        "colab": {
          "base_uri": "https://localhost:8080/"
        },
        "id": "xgmvnTBldggl",
        "outputId": "12063ac8-0499-43d2-ccec-5ebd15ed8797"
      },
      "execution_count": null,
      "outputs": [
        {
          "output_type": "stream",
          "name": "stdout",
          "text": [
            "6\n"
          ]
        }
      ]
    },
    {
      "cell_type": "markdown",
      "source": [
        "**Some common abbreviation:**\n",
        "\n",
        "a += 1  is same as a=a+1\n",
        "\n",
        "a -= is same as a= a-1\n",
        "\n",
        "......\n",
        "\n",
        "# **Multiple Assignment:-**"
      ],
      "metadata": {
        "id": "-ga4mrBJew2N"
      }
    },
    {
      "cell_type": "code",
      "source": [
        "# multiple assignment\n",
        "a,b,c = \"ml\", 34, 0.3\n",
        "print(a,b,c)"
      ],
      "metadata": {
        "colab": {
          "base_uri": "https://localhost:8080/"
        },
        "id": "8nee5Gswethh",
        "outputId": "d5f45e81-b0d7-4266-8eed-c717b8641c7d"
      },
      "execution_count": null,
      "outputs": [
        {
          "output_type": "stream",
          "name": "stdout",
          "text": [
            "ml 34 0.3\n"
          ]
        }
      ]
    },
    {
      "cell_type": "code",
      "source": [
        "a=b=c=70\n",
        "print(a,b,c)"
      ],
      "metadata": {
        "colab": {
          "base_uri": "https://localhost:8080/"
        },
        "id": "Q6UZzlGefj0P",
        "outputId": "01a48466-ffee-4ed4-8f3b-b0a99d548db6"
      },
      "execution_count": null,
      "outputs": [
        {
          "output_type": "stream",
          "name": "stdout",
          "text": [
            "70 70 70\n"
          ]
        }
      ]
    },
    {
      "cell_type": "markdown",
      "source": [
        "**Special Operators in Python:-**\n",
        "\n",
        "***Membership Operators:*** in, not in --- returns boolean\n",
        "\n",
        "**Identity operators:** \n",
        "\n",
        "**is** -- True if the operands are identical (refer to the same object)\n",
        "\n",
        "\n",
        " **is not** -- True if the operands are not identical (do not refer to the same object)"
      ],
      "metadata": {
        "id": "7dzAy2bUgYtQ"
      }
    },
    {
      "cell_type": "code",
      "source": [
        "# input list\n",
        "lst = [[\"Hello\", 10], [\"abc\", 20], [\"python\", \"code\"]]\n",
        "\n",
        "# Checking if {abc,20} elements list present in nested list using in operator\n",
        "print([\"abc\",20] in lst)\n",
        "\n",
        "# Checking if {abc,code} elements list present in nested list using in operator\n",
        "print([\"abc\",\"code\"] in lst)\n",
        "print([\"abc\",\"code\"] not in lst)"
      ],
      "metadata": {
        "colab": {
          "base_uri": "https://localhost:8080/"
        },
        "id": "vF496UlshBmb",
        "outputId": "d0da9208-c422-44db-e6b0-9b06eb926e7f"
      },
      "execution_count": null,
      "outputs": [
        {
          "output_type": "stream",
          "name": "stdout",
          "text": [
            "True\n",
            "False\n",
            "True\n"
          ]
        }
      ]
    },
    {
      "cell_type": "code",
      "source": [
        "x1 = 5\n",
        "y1 = 5\n",
        "x2 = 'Hello'\n",
        "y2 = 'Hello'\n",
        "x3 = [1,2,3]\n",
        "y3 = [1,2,3]\n",
        "\n",
        "print(x1 is not y1)  # prints False\n",
        "\n",
        "print(x2 is y2)  # prints True\n",
        "\n",
        "print(x3 is y3)  # prints False\n",
        "\n",
        "\n",
        "#Here, we see that x1 and y1 are integers of the same values, so they are equal as well as identical. Same is the case with x2 and y2 (strings).\n",
        "\n",
        "#But x3 and y3 are lists. They are equal but not identical. It is because the interpreter locates them separately in memory although they are equal.\n"
      ],
      "metadata": {
        "colab": {
          "base_uri": "https://localhost:8080/"
        },
        "id": "UFQz2SNDfrFG",
        "outputId": "d0a83512-2697-4e0e-ed9b-16f75375ba6a"
      },
      "execution_count": null,
      "outputs": [
        {
          "output_type": "stream",
          "name": "stdout",
          "text": [
            "False\n",
            "True\n",
            "False\n"
          ]
        }
      ]
    },
    {
      "cell_type": "markdown",
      "source": [
        "**Conditional Statements:** \n",
        "\n",
        "if, else , elif\n",
        "\n",
        "[Reference link :](https://www.guru99.com/if-loop-python-conditional-structures.html)"
      ],
      "metadata": {
        "id": "iwT2JK9GjOSZ"
      }
    },
    {
      "cell_type": "code",
      "source": [
        "# if statement\n",
        "age = 14\n",
        "if(age>=18):\n",
        "  print(\"You are eligible to vote\")\n",
        "else:\n",
        "  print(\"not eligible to vote\")"
      ],
      "metadata": {
        "colab": {
          "base_uri": "https://localhost:8080/"
        },
        "id": "ml0SLJpoh0pD",
        "outputId": "c3f0ee9d-2580-4870-997b-b0421573063f"
      },
      "execution_count": null,
      "outputs": [
        {
          "output_type": "stream",
          "name": "stdout",
          "text": [
            "not eligible to vote\n"
          ]
        }
      ]
    },
    {
      "cell_type": "code",
      "source": [
        "# elif\n",
        "num = 0\n",
        "if(num > 0):\n",
        "  print(\"positive number\")\n",
        "elif(num == 0):\n",
        "  print(\"zero\")\n",
        "else:\n",
        "  print(\"negative number\")"
      ],
      "metadata": {
        "colab": {
          "base_uri": "https://localhost:8080/"
        },
        "id": "JF4uwymEkrAb",
        "outputId": "73dfeff9-071a-4832-a850-8a8260670d93"
      },
      "execution_count": null,
      "outputs": [
        {
          "output_type": "stream",
          "name": "stdout",
          "text": [
            "zero\n"
          ]
        }
      ]
    },
    {
      "cell_type": "code",
      "source": [
        "# nested if - else\n",
        "\n",
        "num = 2.3\n",
        "if(num >= 0):\n",
        "  if(num == 0):\n",
        "    print(\"zero\")\n",
        "  else:\n",
        "    print(\"positive number\")\n",
        "else:\n",
        "  print(\"Negative Number\")"
      ],
      "metadata": {
        "colab": {
          "base_uri": "https://localhost:8080/"
        },
        "id": "gJVz7EvBsIUl",
        "outputId": "617ceb9d-aec9-4585-cd7e-70298baa5b7b"
      },
      "execution_count": null,
      "outputs": [
        {
          "output_type": "stream",
          "name": "stdout",
          "text": [
            "positive number\n"
          ]
        }
      ]
    },
    {
      "cell_type": "markdown",
      "source": [
        "**Control flow - Loops in python**:"
      ],
      "metadata": {
        "id": "l6zNOPRxK2tF"
      }
    },
    {
      "cell_type": "markdown",
      "source": [
        "**While loop :-**\n",
        "\n",
        "Syntax:  \n",
        "```\n",
        "while(test-expression):\n",
        "   body of while loop\n",
        "```\n",
        "![python-while-loop.png](data:image/png;base64,iVBORw0KGgoAAAANSUhEUgAAAo4AAAHcCAYAAABYoCuBAAAACXBIWXMAAAsTAAALEwEAmpwYAAAAAXNSR0IArs4c6QAAAARnQU1BAACxjwv8YQUAAFqfSURBVHgB7d1tjFxZft/3c25190wQKepNEFvGOp5iht3kKo6XlKAgSAxM98AKoFdD5pUgzDSbiORY0O4OCQFyHAFid4xIEGxkONqVYUcSWCQHwr5bDpBXXsHsDQInMbweDhBIHHYPWDS0kR05mqKztma76p6T8z8Pt25VV3dXP1bVvd/PTLOeblXdqq6u+tX/PCkFAAAAAAAAAAAAAAAAAAAAAAAAAAAAAAAAAAAAAAAAAAAAAAAAAAAAAAAAAAAAAAAAAAAAAAAAAAAAAAAAAAAAAAAAAAAAAAAAAAAAAAAAAAAAAAAAAAAAAAAAAAAAAAAAAAAAAAAAAAAAAAAAAAAAAAAAAAAAnDutANRGs7m+OPequnLQNr3P1ZN2u9VRM+bi5fUVOZzV/QeAWTCnANSGhEZtzOMDt5kzq+5gS82Y9Lhmdf8BYBYQHAGcmqWld+65g6bJ9N1PP3nwoQIAVArBEaip7m52wTXpttVp0nrF/dtUxt5XAIDKITgCGIv0j5yfd6HQ2d5uPVEn0Ly83pzP1WK3oTrtp+OFV7mO+txtf4r9F4/6mI7zHJzm8wYAk8bgGKBGZABJ6gt4WMXx4vLahnuDuGOt3cq03rJK3XJnL8aL2+76q+n6S8trz5UK4WiYNWZ1Z+eDreL+8/xOrEwmbXc/G8+ePSiqlJddSMyNeR6un61qHa9jdWt7+/7NUffj9sEO399+fJhb6N1VKnur9Jg6ytpWt9vYHA6nsj/G5O9Zpa+Vzu64/b7r9ntzaD9a7uCG25nNzO3O8PNmcnP7008/eKQAYAZlCkAtzb9i3lpaWl8v/0igGt5Ou8Dmws+GHHcpKFXMmvML5vGo7ffz+utvX/OhVW5PbseFtHh7TXf7rUuX3rk16no6M98aCponIiHQ7ftH7u3vhgqBrq0kNMpxrW/Nzw8+rhhiH5dCY7G9PC9LS2sfjbofHcLjhhwvP29ZI/vW8vLaDQUAM4jgCNSVVXeVNvcGfvqVsaFN1eb2swdf2Nl+cFXZ3tV4drMxn/sw5S674H6kBaMtp421N+W0/KTqnwtM76XbktvZ3n54Uw7ldLiOvrNfEJUqYnd390KjoTfVCeWmt6FCdbQttxv3/Qsu3Ukls+MS35W5BVOEWKk0Hra9VGdH3FWz/Lw1suyCVvZRfA7uHiV0A8C0IDgC9dUe8TNyu51nDzbSie3t35Nq4ZYcd9XIphqDVBtVDF/l2xLxdNv9LM69kq8PX9el0VsSPtvtb7afPj3ZYB6pHsZKo4TRm+UmbRdkWy7QvR/v8920fVFptNn1w7Yf4JrVy49V9n13txHC5j6PFQCmHYNjgJoq91E8iLV27zZav1BHoBtZmnS8mfoijtzOZF/ee//Zx+qU9Nz9x47dnVH9IOeyrOWape+4o4uuItjsdntXXKXUbz9qYMvw9uXn02Zmz35L38mLy+9saRdGrdFNBQAzhuAI4PxY9cRqte/8jtbke8JZt6tObRS17fYWdWP/hpY8l36O/dNZpvsDZ8bYfuC+zOntNwBMC4IjgDOnpWqptbTpNoebqoWfakfsZmcatubn5564CqEcXbx48e2VvVXH/EqcbEKm/Wm7puqtuH1z1PZZZt4woX7aHq7eungqTeKt8nlxoI2vvja0GjmoBgCmGcERqKnGK+bLF1NgKznRWs8hIDZdaHpDlUJTt9t4NL9gZJDJ4vLy2p3yFDblKYLsqSwXqK+429x7bq46T5+2niwtvbMlo7R1lt1zzctFc71f69r4fVQuDPqpgaRf4kHbG2M2/H4rtXfCc3ed8mOVwTC5sdKs3XQ/7d3d7DsKAGYMwRGoqcyqR9KeOuwkaz1bqz50hcUVF5rWl5bXZFBJJwxCaW29/vrbN2UqGj+FzfLaug+ZyjUFxwqcH219yPyL49CZfk+ZvY/LKj+gZ7XRaNzMQ1CVaXmeu31p+w2MacYNn+TdbCNdb5ztd7b3VlH9Yw+P9ZbbxgVqv71v+pZ5K0991R4AOAeMqgZwanZ2Ht6N0+uEeRFLk4LLpNcynU2au9HPzaiVhMaO1fb2qCbssyBVxEaWSThOVcJm/JGgt9nt+kFDnaNsP+p+ZMR1fC4W4+P0c0aa3FwvT3YOALOElWMAnIlm82eaSr06colAabadm+td6fV6bZlmR01IWA5wt9ntms5++7rf9vvtd3nlGAnD41wHAAAANSTBUaYc2mdScACYaTRVAwAAYCwERwAAAIyFUdUAcIq6u9ktpT7fkD6TCgAAAAAAAAAAAAAAAAAAVNv2d++4H6O2P7qjAAATwwTgAKbf9netHGhZ1XDpJ5gNAgAmhDdgADPD8mUXACaK4AhgBlgFAJg85nEEMPW0zmwIj5oICQATRHAEMPWstbGJmtgIAJNEUzWAqae15EZCIwBMGhVHAFPPVRxdI7V2/9BUDQCTRHAEMPVivdGlRmIjAEwSTdUApp4fFqO1pbkaACaL4Ahg6unikGkcAWCSaKoGMPV8qbEYWQ0AmBQqjgBmAaERAKYAwRHA1CM1AsB0IDgCmHoMiQGA6UBwBDBLyJAAMEEERwAzQQ8cAAAmgeAIYCb053IEAEwKwRHA1EuB0TIlDwBMFMERwNQjMALAdCA4AgAAYCwERwBTTytGxQDANCA4Aph6NoyNYWAMAEwYa1UDmAVaSo7yD+kRACaH4AhgFlhrJTpaciMATBBN1QBmgY4t1XR1BIAJIjgCmBFkRgCYNIIjAAAAxkIfRwAzIbVV08kRACaHiiOAmeACIwtVA8CEERwBzIAQGbWmoyMATBLBEcAMCMVGJuMBgMkiOAKYBVQaAWAKEBwBAAAwFoIjgKlHuREApgPBEcDUs/1lY+jlCAATRHAEMAt80dFSfASAieJNGMB0+f32Y92wKzYz7qut+2lY/6PdcduQ82w8Px5vqJZavnpTAQDOHBVHANOla2+6ONjxx3X/u620UetUePTna7ncqlxtKgDAuSA4ApguP32h7f69K0d10bcxdG20xcnY1dHqTfWlq20FADgXBEcA0+h9lw/bLiiGkuPwkJhwblt9bt5XAIBzQ3AEMH1WL3RcM/Qt3zjtW6X7y1S70y5NutOZ2lBXr3YUAODcMDgGwPT637Yf64Z6w2qjw2CYOFgmM1vqr/yVVQUAOFdUHAFMMXvbWqv3fMXNc0ZRA8AEEBwBTK+/uvxEGfW+DiOprZYma6ved03UbQUAOHcERwDTrTu/Ya16qVzl0TVSv3Bt1XcVAAAAMNL/8Qe39D/9Q6M++sMbCgAAADjQP/3DewoAMFFzCgCm3Dcu2xvqZ436igIATBLT8QCYat9Ytjesti05rq1ufeWZZkQ1AEwIg2MATC1facxUS47LpN8uQK5/YzmnyRoAJoSKI4CpVK40Jj48KpmVx1Uen1J5BIDzRsURwNTZGxr1c6v03bR2tbVUHgFgEgiOAKbKQGiU6b5daOxp9ebXPtG3XWLcSNu5uqMLj5bwCADniOAIYGpIn8ZypdHVF19IaLz9VLfl9FefNTZda/WmHKfPIwCcP/o4ApgKRaVRqoySCpVq51qvptBY9vXl/I7SeiOddhGy9ZVnDfo8AsAZIzgCmLi/5yqNuS1VGg8IjclvXbZ33HYb1lp/mql6AODsERwBTNRApVGF5unDQmMi4dGU+j1SeQSAs0UfRwATMzAQRpqnjxAaxS8+1YN9HpW+QZ9HADg7VBwBTMTwlDvjNE/v5+vL9o7LjRvFPI9UHgHgTBAcAZy74T6NTrt3zNCYpPCYTjNJOACcPoIjgHM1stL4Axca28cPjcmePo+ERwA4VfRxBHBuJDQa1R8I4/597punTyE0Ct/n0fan6bHG3vjGZSYJB4DTQsURwLl434VGpUxLjvs3Hq2P3afxMF+/nG+4AHknzQlJ5REATgfBEcCZ86HRGqn86fiu0za72alVGkdhqh4AOH00VQM4U//T670b1uYtGe0cp+p+ftahUZSn6hGsbQ0AJ0fFEcCZkdCotWrJ8dQ8bbtnHxrL/AozVt2R4Op3gcojABwbFUcAZyKFRr8koPxMIDQKqTy6/dgsVqZhknAAODaCI4BTF5qnbSsuI+3eabKJhMZEwmOW6bDCjEuR0mz9m4RHADgymqoBnKq/K5XGYnJvbXWm27qXvTmp0Fg2MGDGt13b+zRbA8D4qDgCODUSGpWRKXfiMBilXkxLaBRSeXTBcTNN00OzNQAcDcERwKn4u80UGqVLowygtm1tGqvTEhqTd581NlRm/wc5npqtmSQcAMZDcARwYhIarTLSp9F3a3Rx7MWuyacuNCZfferCo2uytrETpjtcp/IIAIcjOAI4EQmNRvl5GtOw5fauzVf/Vvvfaasp9tVnjc1UefR0RrM1AByCwTEAju03/tLuDaVlIIx2Lb5+nsR2rszUh8ayry/bOy7t3klr2jDPIwDsj4ojgGPxoTGuPS3rsrhW35kLjeKrz/SmcZVH6e8o6PMIAPuj4gjgyCQ0GmtaMWspd9g22s5caCzzlUddWtta69ZXnmoqjwBQQsURwJH8mguNuTH3JDTq8M/Mh0YhlUdXbtzwJ6yyhgEzALAHFUcAY/u1v/RnN7TVrTgNoryDtFU2+6Gx7OuX8w0XIO+kuR7p8wgAfQRHAGP5tS/+2Q33jtEKp/xgmBeqoSoVGpOBZmtWmAGAAk3VAA4lodGlJz9Poz/DhcYfdKsZGoVvttZphZk4STjN1gBAcARwMAmNRtkQGmXKHdc8rV2lceNfVDM0Jn6ScJnnMU0SzmhrAKCpGsD+/rYLja7e1lJhORjp8tfu5tUPjWV7RlvT5xFAjVFxBDDS3/5R1zxt7D1rw5owrthYu9AoimbryD0TN6g8AqgrKo4A9vChUcs8jfIWIQtQ67axunahsay8woz7X7L0/a88Y55HAPVCxRHAgM3/8Ps3jDL3XOu0KzYa6dxX+9AofOUxrm3tB1pnigEzAGqHiiOAglQac5W30huDlsm9bVb70FjG2tYA6oyKIwBPKo257fmBMGHaHf2c0LhXufIofJ/HZfo8AqgHgiOA0DytbcufiKOnrdp9k9A4mp+qx8aR1tLhUbM8IYB6oKkaqLlfdaHRRZ/QPO1DY/ZcaQmNX2grHGjvVD26xYAZAFVGcARqLIVGOR6Co25r3V0lNI7vty7bO8bWd57HZnN9ce5VdeWgbXqfqyftdqujjuDy5fVmbsxzOd7dzS6467cVgImbUwBq6Vf/A9c8bc09CYwy7Y5V6nmmu1Qaj+gXn+rNr1/O3TOY3ZE5L5XObrhma1WX8CihURvz+MBt5syqO9hSAGYefRyBGvKhUeetcErLtDvtLOsRGo9J+jy6AL4h3R39VD0hPNLnEUDlUHEEakZCY65lyh0t46dd3rHt3a5Z/Y0/ITSehK88LkvFUW2E8KjX61R5FDQpA9VHcARq5FckNKo8TLmjrbRPt6UZkdB4OmSqnt+6bFXq82hrGB7HIf0i5+dVs9tV7aP2fSxu4/J6032ANcfpPynbzudq8ST3ByAgOAI18SuL//qG9aHR+j6NrtT4vJubN//H/5fQeJpSn0eXGu/IacJjnx/wkrsmfG1W5PT8glJLS++03NHvuBelNO23t589uHDQbSwvr7nXsbqrjFks30a327hdDoUSThcWzLtu21t+Wz2w7SaVUeB4CI5ADfjQmJmW9WVGPxDmRa9n3vyNDqHxLEifRxce1WB4tKrqU/U0XjFfvujCYfm8naetLTmMo6Qfu4CYLm+77zAd9yVm3R2/NsbNp9toyXFr7Zb7CvRxptVb0i1gfj5vurNX07bz8+axe53LaO+OVfaRnOde+1f8tgtmxQXLq1QfgaNjcAxQcX9r8bMbRpuWsbGBWtkXee6apwmNZ8pPEq7tZjpdh0nCM6seyQjr8k+6zFcaXSHQ/bSlL6RUFne2H1w1ubk+7u2721iJR9s72w9XP91+cMsaczOEyD5XVVx3KfFKvK+rO88eXpefRpZJsGzLfrig+Z4CcGQER6DCfGhUqiUfqn5ub6vaxlhC4zkJK8zoDTnupzwKzdZVDo/tET++UuiegBU5LkGv3Ez86acfPHKvz/fHuXEXENP1mpcuvXPLVQ2bOzsfbEmIlJ9iO6XflUMZ6V6+r6dP3XEbw7zWY1U5AQxiAnCgon7ZhUYXVVq+gS4uI2gsoXESXLO1BMg7McBXapJw1zS9kiqL+42qLm/jKo17PndKk30XfRz3mwB8aWnto1hNTCQMbpX7LS4tr1k1BkaBA0dHH0eggn75hyU0qlb6bmhdpdE1URMaJ8T3eVzObZZlG9bP9FjbATMj+xTmuVoct4yx7Zq3pSnaJcMbOlQxmyP6LcrPonuiW1bbF+qI+wNgfwRHoGIkNKrMuuZpreII6rY7eyKhUZoS5171/doOdZxl6WbJV581wmhrVRowc9mqrzyt/trW7oOmnYejixcvvr0izcuDW+RXjtIAtr39sKX8F6PUn1FLf8Xm3Cv5upIR19Y+kaZxm5mPdz55eLd8XRltrV5VfkQ2g2OAo6OPI1Ahv+RCo6uwtGTlO7/8nWueVp+riVUa5xbM+vBgif1+lAof5lVWHjAjvx33O6r8gBkR+xZuyXGdZffkC0W6TJqxY/A7lGuCbkkztAuLxaAbHyIlKAqr/WvIvfQ/9Pdl9Z3yfYUpevJ7864JfC5nZR/gOKg4AhXxSz/8r25kWvo0+sAow6df6F0XGj+vd/P060trdzNlv2wyfffTTx58qCYsTdWj41Q9dVnbutFo3MzDF4Sma1Z+vrS05qqC7suCMc1xb8Ma03LB84ZUE12A/CgGxmLgTW83a8nhzs7Duy5cyjQ9K8V9KdtR2lxxNXgJl51el3k1geOg4ghUgFQaXQJp+f5zvpSl2npXTzw07jx7sCGDIdKP27niw7p8vvyc1SAFCY0+WBj7BTUlwmjruLqMX8On8qOtfdVRpsOxsfIYB7g0/enS6+Ig0sQdp+9pK5mjUeaADKGxI7dRfg25SuSq+1PY9Jdpv61styj3J1P0MCgGOB5GVQMz7va/6yqNmS5WhHH/tue6kw+No8T+aD4gjRpdmxRLxDVUp/10/w/41F9Ntt3ebj3Z5z5l0ukV44LFp6Fv3NRIo63T6SqNtj5IWHJwt9ntLhx/yUF3G3NzvSu9Xs/dxjfbB227tPSzfhT2Se4PQEBwBGaYD43aVRpVCI3uT/p53tVv3p3S5unDgqOftiXP76Smx6gt8/E9e/bgfnnbS5fW3jVWbahS38i4ne9D6JoyZSqX5qj9cE2eq3sHaExGXcMjgNlEUzUwoyQ0uoN7YUUYCUOqnXd/MLWh8TCvv/72NR2WpFtxxdMnroLaUnGVD/cAWzLhc9pWAqh73DJadlG2S0vKue02Li6vbagZkiYJTxMP1qHZGsDsIjgCMyiERj8QJk7UqJ+bPFu9+/lfaKsZJJM9Z43Mj6yVfmmyFN329sObMhl07KemTBghG6qLsSLpHvyHsp0sJ2eNvS3911zF7jW5TK4b+1Vuhevbm6k/5bRUG5OvPtObWtvNUDX2K5/cIDwCmEYER2DGfM2FRmvjlDv+HPPC5LszW2kUcQ3ipvt5IgNqypfF035C5zhPnzzudjx8Y3l57YYEShlJK8vOSZBUM0gqj64JfSOdDuHREh4BTBWm4wFmiFQajTEtWUPQL0Ci1AtrejNbaUxc82wzdni8ctBycdbophzOZVkrN0aa6n0z9vyCkaXonrin5e5wX8hZ4icJX86lorohp92vuK4rzACYUgRHYEZ87dV/eSOX0Ki0zLmj/eTepvfmrIfGAVY9cY9s/7kWjfEjp2VqF9e8vZpb85Zror7ml57T6oqESOn/KFOxqBkVwqOVX/OGlqEyWrnwaF14rP4KMwCmH8ERmAFfe1X6NEpolH59vl9jW9vqhEYXj9rK9++znZ1nDzeGL5fpefyR3ayYSuVpmKbnffkJU7Pk6zrT7/nJoZfWr+w3Pc8skD6PsjyhqyrH5QmpPAKYDvRxBKbcL7pKo7W59Gn046etC1k/sPnMN0+XdbsNGRXdkdC3vLx2p3yZ9GGUJeLkR8Wpd2Sqnbj0nB9QI3PzSR/HdB1re8UUPS5m+7Dp3uzeUDNE+jxmscna/+azjNHWACaOeRyBKSahUVt9z1cZtf+DbWfKzGxoPGgex/JlSga/hCpkU8W5GP1o6zhw5uLFd2756qLyFdhHubUvMqW/HEdbt+PKIJ0RtyvndawxN6dtZPV+0jyP0mztz7DmPpVHAJNCxRGYUhIalVH3fEOlnGHV890ZDo2H2d5+2CotJ5fWH24qCXra3i6PtvbVxbBMXdsqfS3T2bth/kdZvi67Xl4dRG63WHouVCybaoYU8zz65SRtnOeR0dYAJoOKI3Cadj664Q8vXj3RyN4YGltKpWUEbTvXdvXvVzQ0DjvKcnLN5s805+ezxW7XdMbZVqlXO7O47NzXl+0dGTCTTrPCDIBJIDgCp2n7u9I/b8NFvefWmv9aLf9nRx6g8Yvzf3xDRgdLNNC+gVq186w+oRH7K5Yn9GtMuu8UhEcA54ymauAMuE/1Czqb+2dq57v31POPmuNe7xfn/6ULjdpP7h2bqAmNKPhma203VfhCwfKEAM4dwRE4ZWnROCsz8Fm1rnLzOFYiD/QLrtJorGlZnxolM+rnZpfQiEGhz6Nrsk5rlLM8IYBzRHAETlcc+qr7q59YPxhjw1Ufn6vtj94adSUJjdbYVswCcvUXpmHf/PuK0Ii9ZJJw9yLxa3jrTGsqjwDOC30cqyj2s5OjWqa0O+D37KdcHjwc3F5OaH+QNtv3NnXcxg6c5+eQsb76Vta/NavChNb73W7szVXsix8tYmNZTvnWOn8HOl0/PZb+KZWuonXYKu6nDiv32eL+PX9h3F4V+vup1Oh9LT9+v+JH2D7eeNjHuGFLNbJNdeFqW07+QsNVGpVthc3kVvRzNe9CI5VGHKLo86jCi++fvPmn6oOv/FG4UKfXof8L7P+Rx8vCgY5/YOnPJb5uS3/E4e8/rVaUtkkv99J28aVf/saUWtRt8bdT+ssJf2ilv3+9931Cx/vVe+4jnq/DH5ny3YH7f/92aN8yue30blD+O037Fp6J+GY14jH2H79SruL7n/ynmwqoKYJjFW1/tyhbqfimOPwmr9LbturnK9vfrh/W4ltrEaTiG3Xsf2fjB49OHwIxl+nSPYTNiqAY96wfrIZCmi69masYFvv7H+Ni2vf0CaTtng/E8P5fukP/mPwHiEkBbvBDrPhUGUy+xcFgoBwIvP65Ln/gap1m0Cl9CA/EcfVS2Xz1F770H305d83Turhz/VwbRaURYxsebf1/vvFSffDz/6Ifukb+/YfX7+AXx+JU6UtSuiT9vep4Jfn7H/p7TyFu1N//8L2X/uaHv6SV3xviaXXo3//w7e/9YhevM3jbQ9cpNhz+Nr3n7/8nv8RnJ2qLF38FaRccy+97qqgkKFX6lh4v9h8AKT36Dxod3+ytGg5W6du+TXHOlkJjCJh+B4ocFz9AyrddvPkHRdAqBbbB+1MpsMbrxwqKKlUjyh+MMXimKkUpyNlygO2fH3fR7vl87Zcw+9WHFLT7lQ5/bb03lxc3UnwCF1UQrbdUT9/863/5R99QNi0j6Ldqa6NXCY04qnLlUfyT/+L76oMb/yq9PuNrWF7CZvDv36c/lQJS+HIV/67snr+H9L6Qtotfzoq/5Xgi/K35q8S77//9xztNsa+4bTUi2upUWEx//wNf9eL+pofSv6HBL42x/r9nX9N9FLuuSn/c6Tnrt8Kkh2bjVVf+Yz47UVusVV1BtmiFcUeXfjwL5w1vc9D1xzvfHuG6R73to5x3kuuN8zzYfbYfed1Pvrvhnvk75Y1sagVTuq3y/Kb60k9uyalcfe9OIyvdVqYe/QNDaMTR9VTWmtfqay7hfEHi1E/+4x96+eP/+w9fvf3UveYUf/+n8vf/7Rfpq984uwFUFoNjqsiP5rVqT38hnBNpwgvV0lDRsB33y9hUyz9+IYVG8bvqizfdRq1YClbKqFt/PfvjOwo4gvcu22bD2sc+NCr/ReWl+2clhUacLt5UUXcEx8rSfCueEB0a0UJktPa++n52QV36iY1R2/62ceFRu21ip3z3c4fwiHFJaHTNRo/di60ZG5A/yxu91a890x8rnDarlOoPsQFqiuBYSVopqo2TE7pvbancrKrln7iprl49cHm73zF/cd0oez9WJzXhEePwodFVGt3fetP31dWq08u6b97+g4Ujr1aEschfqKYlB3VHcKyi2C9d8/52/nT2mftcueWapVfLzdKH+R3zxfXcr00dx9MQHnGA1DytpNKofGW702toQuMZCt8HbTFoD6grkkUVffLP+m9sl36c3/EM+bnsj1raZmt+qhRfgtQb/7P5C5sKiFJolOZp+XroqtUvpXma0HjGvv3CFvPz/NRrvK+itqg4AlNEmq2tNg/685SbDSqPh2s21xfl56yvM2nl0CinrbIdQuN5Ii8C/BVUERXHmffz2ffuuQax9TDJsvQ5yM608ri0tH7FHVxRmfkRZbKXtqHaO09bW2rKXLy8vqKNkSba9vazBxfkvMuX15u5MR/5DWxvdXv79w4NUfE6vqk30/b2J588vKumXBoII30a5bT7Iyc0nidXcSwmAKfiiBpjHscKGlyfD7NIRlv/N+p7yoWadRvmXJY+j+q0w6MPYnl+R2mz4s/wLXFG/ldLy2tt90raePbswX01xXo2v+Ze875yaFRDAvChQSrP1aL7M2n665jsy2rK7enT6EOjJjSeMwbGADRVV1KY1kUWiSA2zjI/z6O297Xv7ygfWKfbbL28vHbHV++0XolnyejvdjwUTZlnUrZTU2xONx651/yW/OTdxlb5sqWldx7Lj2uSbpbP395uPXF/Hu/LdbpdPdV9SIebp53PQqVRExrPF2+ogKLiWE3FGrWYddLn8eeyP3Lf8LIbfs1E7cPjiSuPly6tveuC04Y/YdUTa83tnZ0PttLl0pRrTP6eayq/5j4tNy5deufltDbnPn3aaruD1ZEX9kPxHp9uP7ilply/eVq9Fv+ipXma0dOTMbjkIVBTBMcK0n7NQd7bqkLC489n35Nqx42wdvbJwmPs3xdCkwuN3W622m4/GJhrMoax68vL73xLwqOx+o6r2rXa7dbAdn5wyatqcd41/Xa7qj18+Shynfn5UD2Tyt84245726fpKPs5fJ3T2N+h5mnJjZ8x5c5kpTXrgTojXVTR0zQ4xv16L1/ld1wRg1P1yDnHGzDjmm7XXfq8J8e7u9kFF3Da+20rQWhuIYRMbXuP0sATOX9hwbzrXmhyWX9ksrWtbrexWb7Ni8trG25370izcCPTj2KlM12n7fZhdXgffLjN83sDFUN32+7f78R9Hx4c8zw9nldfVSqdHsVdzz97S8trsk3TGrM6XG3dc9/u/tyVWs+ePdgcei59U7819rb7nbw1vL/uubh9nABZDo2x/eBl6NNI8/Sk6N//56bo48jgGNQYFccKkrndaE6pnqLyaPWN8AF2vAEz7ppv+eFTLsgdFBpFDD0b5fNCVc08tjIKO26WLnLBaX1+way4bfaEQZd2V1xoXHFHO+4F+sQFLbl+020vfRCvpoBVjHjWuplu323fcddfd8evqTNUjNDWugi2KoRc6e+54YJic3v74c3h6+lM34nbteNZ/rlYWMjlvOvqCCQ0ZkZCo4ye1soo9VLL2tN/wDKCk8TAGCBgcEwl8f5WVTLa2pU9/PKEx11hxlWwfCjSKmurY5ift3dUCH0dqdZJ5U9+GlkmFcC2kjA4n98bdV0ZkOK2/cLO9oOryvauxrObc6/k62kbX+0LzbNSjfS3Ldub3IwVwKSZXaqKqbIo4u0MnDdKnKJn0Tfhx/uW/ZWKot/AhcFLl94Z1TfSXcfeTM+FC5k+zEsz/1HmipTQqHNTmnLHdoxl7elpUHrh0FaNWiM4VpRfFIu3t0ryo61ds6lM0xN+xec8Sbi26/7ANVOXm3glsLkgGapxrro4IjB1ygNSfLO3q3rKcWt0Uw6l4peae+W2ylXLTz/94JF7vO+rMyJTE6k4crnbza6X73tn5+FdCb1y3BjXJD3EPRcfukpkK53u7WYykMhXUOfmelfUGN5r/lnTpebH7m/3NX8/UmVV2crtbfo0TgNb/EvlEfVGcKwgMmP1SeVRVpjpf4jZ8cOj1i/CEdNUR+SDXeyfuLubfTh8eQySPjA1XjFvlC9zTX1P9tuXTOkfkcNef8qZTjmUJnNZ1lJnxeY+4O3bhG/Mlj8cMVLbDM0dGZvdx+7bKKFRzy+40Khfk74IsvZ0prMVKo3TI8yJ5ZcBVUCdERyryJWiNG9ulReWJ7T3/ZydMoBi3GbrWOWTAHTx4tsrB20qQTHNhThi2/2aYENTeG5eqiOy3d6Bzbp+4u4zpvv9GwfPn5/bNwi6576tjklCo23MP3bN4U0fGl3gzLIGoXHK2DATP1B7BMdK8k2YvMfVQAqPvjed/7ZweOWx2208UnEQh86ye8OTYyfS1JynCcK1bvZ6c0/iND2hCfaVfM9Aldjc67nt2+qI5ufnUuVucVSozbLBKuapyouK6JVRz4k2vfV49NSajlNolIEwVvm/2k6D0Di1+DoOEByrKYz+07zN1YOER2OVVB79l4XDKo/SjFr0RYyjmpeX127E9apVU6qMl9bedefL+s9NOU+WHkyjnlM/Q9dwd+f1S2tFf7+4jnQYFGN167AR26P4YBorosOhVm6/mLR8fH6f5+fzdw/bMDaNt8P25lvl+5bnx71d3vD7pdRddQokNBrdiKOn/e12VGYYCANgqjEdTyWF0hNT8tSHDJj5ef09+aWvaz/L48GThEtIcs3PN10l8T0VlxaUBaqXltf86I8yV9G8vf3Jw/vptAz8cMHqLRlZnVn1yF0n9OczRZ/J9kmW8Ws0Gjfj6GYJtc+XltaeuPtaLN3++KRfZaiY3nL7uS5nySjp/bfvXVd67rE8Nn/fy2ttd+6i7TfL3z+Ntbt9aMwkNOqme7ptptVL1bCrDISZcqzKBVBxrCo/5xiN1bUSBsxI5dHG7lgHN1vLKOBGlsmUOBKEhvvvdWSQiIs0V3eGlhqUyqOsNhNHGcv1/DyH/rirNI6a0PsopOro9mvVFn0xw3yPYX/szaPclmuWlyl8UtBbVOrgPpIy0luek+K+w+OS63Rkih0XOtfVCUlo7LlKowv58pjcw7MvNaFxJjCXI0BFqpL0H34chkrI7/fHrvA7rpmwwoy+4RuTZSDomCvMLC397BVrs0WtjQuGC2MvmSfXk8OjXGdcYbLx3eZp3Haz+TPNdvub7fG3X1+UqXR6vV77KNc7SAiNma80+t+PhEalVn7p+QLN09Pu2y/6X8VZOQY1xou/iv7giaxJF6Ljj12hqlxDKTzGtQnlO8Tmcde2xun4dRcaGzaTZvCmdCZxv5qOsburv9z+ISqNsyAGR7/qEsERNUaoqCjrp+Thi0Fd9afqSZ91R19hBqfn13/0z5qZ1T40hnMsoXFG0QMIdUdwrKKYFSzvcLU2GB6tPvcVZuBJpTFb0L55OvwqpL9kl9A4Y3T8Gs63cdQdwbGK4oR+0lytUGvlScIDS3g8R1Jp1EY/tmFwj6T3TiPTK4TG2RP+hmwYWQ3UGMGxivwyIjILOCMAEcKj+ybRCivM+JIX4fEcSGhUvtIozdM+bLxUurvKQJhZxnQ8AMGxknz3bRU/rAA/VY+ERzl+pOUJcSw+NM7bx+55bsaw/jLLejRPzzL5Nk4zDkBwrKTYx5GvxSiT8GishEffi0F+qDyeAQmNtqFcaMxei2v5dAiNFaDDsgq8r6LuCI5VVAyn1rzHYYCsMCPhUaqOsmIJA2ZOl4RG03CVRq1e8wOStO0YYwiNFWEVo6oBgmMV2dCR2zKuGiPE8Hg/jLQWhMfTsPGjnzVNZv+RDISJ6eKzuYZZ/ZXvERqrgm/iAMGx2mhVwT5KlceIZuuTkNDYyF6RSuMFf4a2LzPboNJYMXbgAKgngmOFaQbH4AASHmWqHjnu10ymz+OxSGjM9MJj9yzKPI3yN/eZsmb1v/seo6eriVHVqDeCYwWFgX+ar8U4lEzVY1Q/PNJsfTQpNOow5Y6S0dNzao7m6QoqeozrjLdW1BrBsdr4ZoxDDc7zKF86qDyOQ0KjdqHRPW+vSaHR/dfJtaXSWFGpW4dmHkfUHMGxgvyMEdYqxsZgXDJVT2i2tnGtSiqPB5HQqNT8Y/dcNV2SkHkMPjMuNG5Qaaw83lVRdwTHKorzOFJwxFGE5QnV/TBfnWaS8H340GjnffN0DBEdlRMaAdQDwbGKtB9PTXsKjux3zBfXjTL3bZwk3CVIwmOJhEZr5uNAGF/V79hed/VX/58fonm68sLXBN5XUXcExyqSAbIMjsEx+QEzrtnaps9JS7O12Fj8rGmMrzS+pnxfUFdpNHp140++QKWxFkJk5H0VdUdwrCIphBjf74r3OBzL70p49PM8ppdQvcOjD40LDV9pdBVZ7ZcRtHpl409onq4f3lZRbwTHKiraUmitxvHJPI9+tLVK46zqOdpaQmM+33hsrX4tDJ52lUbbe5Pm6bribRX1RnCsJG0HD4HjSaOtwxx2PkLWKjyG0Ji5SqNu+hFDUmlUOc3TAGqL4FhFoY+jLFXNV2OcmPR5zE2a59H3g6hFeJTQ2G1kUmlsxgXgOw2Vv0lorCfeTIGA4FhpvNXhdJSXJwwvq2pXHv9mDI3KrwjjvoMZ9VlDGyqNNcckZwDBsbJoo8Zp+51iwIyckoJ2NafqkdDYyLSrNNqm7+5hVcfkVBrrLi2pYHl7Rc0RHKvKta9p3uBwyqTyaHQKj6py4VFCY+ZCo/KVRiXN8i9NblZ/rUNorDvdLzZSdEStERwryK/7oTULDuJM/K4fMKPu90ftV6PPo4RG923rsfu61YxndayxhEZ4Nv5LakTdERwrysZJwIGzICvMyFQ9YW1COWe2+zz60KjUY/c30/R/NjLlDqERg6x0XeALOeqO4FhFViKjX2uY5IgzI1P1hPDoX2tqVsOjhEb3Teux9WtP2xAaLaERg+I3cd5TUXsExwqyYT00zXsczpqER2PjaOsZHDAjodHt82OXCppy2uXfTo/QiBHku5HmXRUgOFaX74tDqwrOXJqqJ3ywuir3jITHFBq1C43Wlxr1Z0ap1b9DaMQ+LEOqAYJjFYXJv/2IV74c41zIVD0qjLaWbyx62icJl9BopHnaKgmPsssdo+ybhEbshzdTICA4VpAERi0dcjRLDuL8xOUJH/j+jv5TdjrDow+NxkhofC2c40KjJjTiYLyZAgHBsZJ0mKmW78g4Z+VJwsNrcLrCo4TGXgiNMiBGvll1dG9+hdAIAOMhOFaU9oVHmqpx/vwk4TaNtpZsNh2jrf/mqy405uaxMrZpw4ruHZ3r1d/4Nz/0sQIAjIXgWE2+2MPgGEyKhEfl17b28zzaSVcew9rTPd88bZXvwvFSQuPf+TdUGgHgKAiOVSR9/a2fqZaKIyYm9nm8H0ZayzmTqTzecpXG3a4LjUpGT/sq/MvcZIRGHBdfyFFrBMcqYlAMpoTv86js/ZAb/STh5zpVz61X/7ipsu5j90fRVGGNxM+MzVbvEhpxRNp/A/KHCqgzgmMV+aoKixxgOkh49PM8qpQdzyc8SqVRZQ0XGrM4elq9NMq8SWjEMaVVXHljhaozgmNlWUWLCqZFGm0d1sOULzZn2+dRKo1W9f6Rn6cxrGjTscq4SuOfIzTiWKw1YQJwVqtGzREcK8hPAK50PASmQxgwE6bqCc4mPEql0ShXadT2gpx2KfWl6lpCI05ICo10HAcIjhUUBwAQGjF10oCZswqPUmk0qutCo2rKaWuyz3xo7BIacUJ+iJemDzlqj+BYUdqGSfQUMGXKk4QHpzPa+m+40Jir7LE76teeNkZ/lhnzJqERpyIWG3lfRd0RHCspzn5CowqmlDRbp8pj6DN2ssrj31B/3Jy3WbH2tPsDeJkbS2jEqeHdFAgIjtVGkwqmVhhtre5rv8yRPvYk4RIaG6+40Khi87RVn+VGrf49QiNOkY0jDpmNB3VHcKw23uIw1X7HfHHdfRq3wilZY/1oU/X40Ljgmqf7lcaOsguERpy6OH+j5us46o7gWElhsUFNbsQMiANmHli/1JH0Hxuvz6OExmxeu0qjbYZ6kP7MhcaVb3S/wNrTOH2xUy65EXVHcKyqkBl5j8NMkMqjn6pHhT6Ph1UeJTRqFxrd0ddiA2LHxc43CY04Q3wTBxTBsZJ0aLJTrFWNWRIqj+q+HNcHTBIuoVHNKxcarUzuLbMHdHaVpnkaZ0q+n/CGChAcq0mHCcApOGLWFJVHO3rAjA+NDfVY+z6Nyvdp7PUaq79NaMQZ00UrDu+rqLc5hcopKo28v2EGSeXx57I/0pnSN0K3Mt9srTKj7tvM+nkaw8e3a57Os5XfVn+O5mmcOVvMcUbdEfVGxbGa4lscb3CYTX6ScGXuh1Oh2frPFvPnaUUYo1TH5PnqP1B/ntCIc8M7KkBwrKRiNDUVR8ywNM9jOKXVK/86SzPpdXTecJXGv0jzNM5N7PzDuypqj+BYTWlVVd7kMNOkz6MsTxhOWfX5v+fqkIZKI85ffDOl6IjaIzhWkO3PN8abHGaeLE/49Nq/VT/4Yav+l4d/aqk0YnL4Lg4wOKaCtJ+Qx2rH8jaHKvhff+Ol+uh737ff/2LOlyFMhO8yblk4BiA4VpAPjX75NiqOqI7/j9CICbKltmrCI+qMpuoq6vfg5v0N1UH9HBOkw3qYvKmi9giOlVSMqqZCg4qwcWJ7YDL89xZegwDBsYq0Cv0cFVAZ7hWtmZgUE+Vff7wKUXcExwoiMaKCLJ12MUnaT1jh+wHxFotaIzhWkB9NbSyfsaiM1LeMT2xMSpwaV/PtBXVHcKwgHxo1zdWoDt/Dkf5lmCx5GVr6jqPumI6nqkKLCm9wqBByIybKv5/yKkTdUXGsKKozqBhLF0dMmGUZV4DgWFnyIUt4RFUwoBqTpn07Ne+rAMGxgtIbmyvR8GmLSgjrr/N5jclJrz5rDe+rqDWCYxVZP9WYZXAMqoTXMyYsNlWTG1FvBMcKijONafqEoUI0My9jwrQiNQIEx0qylGZQLX4eR2uJjpis8ALk7RW1RnCsoGIgAZ24URFhmWBteUFjkngBAgTHakpLYjE4BlUSpgrgoxsT476T++8wCqgxgmMF+dHUlsEEqB5mCsCkFO04Cqg3gmNV8faGiomlHr4MYWJkWihegKg7gmMFSR9HzUobqB5GVmNiQj/bjNVjUHusVV1BoQO3vL/xIYvKOdaLutlcb869qprjbLvztLWlgL0sXSUAgmOF8f6GavGjqo/5wT2/YDaUUTfUePjjwSh+Vqi49CBQWzRVVxSffKgaqj2YAtIPiNyIWqPiWEHFaGo+aFEx+phT6W0/e7DuDtbT6YvLaxvutu64o2132QUFHEKm4vH9xuk7jpojOFaQX2HDNesxYTKqwn9Sn6Cp+iSazfVFOWy3Wx11AnI78/Ohn+X2duuJwkxJgw15T0XdERwrKCzPxswlqBB9fgMTlpbXnruDpjX2dpapN6wy19zptvu5sLT0zroLsPfcvmztbD9cHbje0juP3WUr7q9uc+fZg410/uXL6808z+8pbVZK99F2D6b17NmDTYWZ4d9beWNFzdHHsYIs3XBQMWHRGH9MnRed6Xfd3V5TJ+BDozE+ULqTHfdAWhI6lQRTpTZc2LynMBNKLTg0VaPWCI7VZGmjRtWEuZfP9TO7aax6v7ubfaG7u7t6nBvwlUZ3O+6r3CN3Oxe2tx/e9JVK27vqN9B6/eLFt1cUpl5YkYs3VoCm6qoKk4BTd0QlxNfy+VZ6rG59un3/Vjx15P6Nsdq4Isd3d/Xtch/J7e3fe3Jx+cYjl0SuZVkm97GlMP2YgB4gOFZS6t/ImxwqQvqV6TCs9dxe1EaZ76gT6PlKYzC/YJ4vLa8NbWHTv19WmAVx1Uug3giOFRQmSlYMqUalWGOmZslB9ze2eITNO+5P8f39b8yeaLQ2zk+cDorwiFojOFZQWqSa3IgKkdA4TRWfvcFR6yvlk+7NtZ3HbXu72d3h6Xz8ND+vutv5XBEcZwMrxgCKwTGVlMZU87UYFTMFL+lGmn+xuby8Vixh6I7LZOIDYfLp01ZbhRHUan7ePJb1stNl0v/RNV9/NG/M84UF85YCgBlBxbGSbEyOfEFGNegJTf49TCbuXlp6ZyvO19haWlq75eKsTK0zsum60WjcDNPxqCu+n6NcV+lFd16oTlr15Nn2g/sKM0Feh7IiF2+sqDMqjhWU+jayti8qQ1ZDUtNBwmCci1FqoD4AyqTfqbpYJlXHRpbJVD4hHMp8juE60u9xs9vNjjXNDybDEhoBWjMr6R9vm7B6jAuO/+Uyv2PMvu3vyud1GFl98cen4gtvWEJwt9ntLrTHWY5Qtp+b613p9Xpu+2+2FWbLt1/0M+NPvcb7KmqLpuoqit+KWasaVWOtmZoP7BgWx15zOm6/pTCj4mKDdAFCzdFUXUX+bU364lBRRjWEF7J0veAljUnRaW5cXoSoNYJjFfVXjeGbMSohvJC11bymMTG89ABBcKyg0L+Rb8WoEqt8/0aqPZgYXnqAIDhWUL/SyBsdqkIzSwAmjZIjoAiO1eSrjWG+MQUAOLF+B1vyI+qN4FhVMu8do/9QLbyeMTH91bh4X0W9ERyriLc1VBMVdEyM7q+tANQawbGCwoQRWllDUzWqgdHUmAJ66BCoJYJjBdk4HQ9N1agKW3wf4jWNybDxX1Ij6o7gWEXpHY63OFRGnI6HAV+YKFbjAgiOFcU8jqgSrTOXGf1HNp/bmAhdrBrDSxD1RnCsoNicZ+nKjaooVRr5QoRJSfPj8saKWptTqBwZFBM7hPEGh9nz++3HqmFWVObK5g33/SczSv9pOFTy8+T/sv6w4S+3Nsvvq+WfuKmAMyRfXuJSrnx5Qa1RcawiHfrh0B8MM6lrXQjUHTnq587zX4BsMVtAsXJ1OpZnmwo4B3wTBwiOlaRZcBCz7KcvtJUy76eT8gVIYmP/Q1tOxkEKWm+qL11tK+AcaMX7KkBwrCQbVsfSvMVhVmV33T9tP8ordrkodXLU4TXuLv+3/YAJnDWrqDoCBMcKSm9s1vAWhxm1eqGjjL3tv/xIlwsXIItZphKrNtTVqx0FnIP0bQWoO4JjBWkZVeCP8DaHGbZ68ZH7rN6KTdJ+MSRlix6OW+ovf/m+As6J9ZM4Ms8ZQHCsoDgoxv3DqGrMOntbh5WQpE+j1ilA9nqMosb505qmatQewbGCfJ8wy0S1qIC/uvzEfRF6P1YZfYO1Neo3XRN1WwHnLA6O4Y0VtUZwrCKbUiONKqiAH8xvuFfzS9/XUennSnXvKuC8Ff1seWNFvREcK0n7giPdcVAJMlBG5Zvhu5DepNqIiaDPOOARHCvIr3Dg3+NoUUFF/Oc/dte9nO+rq19iQAwmIr6p8q6K2mPJwYoKA2T4hnwcX79kfFc6pZUePpQBR0bZfu2hdL4dMVvHyPP91iqcL/9k2o/W3HcbHYeGjHPbpX0a+/x0WemGh29/1H358/yQlaHblA1lEMGIy0buc7xvG7fNhm7XpvPecWddsmvpeStue/hx2WJpmcHLhw+H9+mg52d4fw/6nctjN/bAbdJjSk/X4L7EZ2P4sY14HPHVofSI2zp0vw97vKOet7iTaV+/8omuT/HBzynq/jXMyoN6o+JYSfGjhC/Hxxc/YIsqQxFiXM5Lo9VLH7zlgFU+LI6Xg1kY4qGLC004I23j79PY/oe7TbMr6fLu2X3vc78mtfKHf9r/8mXpv2I3bbHdcLjRYW4cPRzA+huE29JDI/uHA7It3XcceDDidtPzKyvI9J+3gSBj1Z7nfeiOQmjSek+YHbjN/hNS/E50+fdd2q54/n2w7z+XNkxaXhwfuI2hxzQc9NLj9M/cPvdbDnNZ3E9bfk0V91G6/qjXatpvq+zI65XvLx2Oen3UiP/VZhnvq6g1gmMV6fBBxVrVJ1P+YNflYDAyaAxeVhymD/QRISpdYTi0DVTqStcrf1DbUphMAbPYr0M+0IsAWqocDZyfgs6Ixyek4pru36rR1a70fBXhd799UaXnoXw4dFyPCsPlcFkOWikgln9nqUJnB7KyHb1PodbrK8HuRKgw7/98jKqsDrxGwg2WqoYjbiZ+PSilT1W+fnHdtH9DIdAOVVwHvlj4KYxGFqD1cBgs32b5Pkfa5/moquIlyvsqao6m6ipKDUv1el8/E1/9JONJBEq+cckaObS1W0iFtwJAEByrypb+BYBTUr/AWAgFdqDmaKquKN+cwnQ8x6KZdgM4VA2/lfLGACiCYzWld3TNkoPHYqnUAoepY4oqegEDNUZwrDI6cR9LjZviAByM5mrUHsER2INKLYA9CI2AIjhWUjGTC03Vx0LFETicrt8XLN5QAUVwrCSr4lQ8vMsdS3bYRNpAjaVJzY01dR5dDdQW0/FUkF+VwlI5O644afehE2kDdRVWlazn24um8oiaIzhWkC2m4SE3HkeaOZ3cCOwVlwSq3ZKDafl1VlZA3REcgSGuCU4WW7a2ZkuqAeNwbdRpse1aSV/Ipe843ylRZ/RxrCgSzwkY99lYWo8ZQF9RcVQA6oiKY2XVsCRwSsJCvMy8AYwS+gD3Z2+oE+0fPn3HUW8Ex0qSphTe3I5LMiMDqoHRUiG+jgss0b8RoKm6mtw34jDHGu9xx2O1MX66EQVgmJXwaOvXlcMW/wB1RnCsotR5mz56xxI+EKViS/AGhsU3l/rN/l2MjWE2HtQbTdVVZENLq2W6sWMJXbjcB6OhugAM638prdcXqzgeSNPHEXVHxbGiYuLhDe4YpH+osT538/wBQ6wJvRtrN48j76eAR3CsJktzyvH5eeqkskDFEdjDr6tk6zc0pjQDEe8LqDWCYzUxB+EJmNjxnyapk2leXm/Kj5oSzeb6osKJ2TjFad1Gx2jNFGeAoI9jFYX3NkLP8cXgfbSqrQSTuVfVleHze5+rJ+12q6PO2NLSO4/dp9uK2+nNnWcPNtSELC2tu+cgf08ZsxJO32htb9+/qU7RZRdIc2Oey/HtZw8Ofa2//vrb17KG+dbS8lq7u5tdld9H+TbceRfceW11Csqvg52nrS1VMTatqVSzL1alL5K8t6LWCI4V5Zuqbf1GPp4G20/eR/qAmJ/Prymj7+05f0HC09qTbje7flrhZFr5qp4233JPXTOe1VZTIGtk1+LR5txcT0LdljojEhq1MY/jycqFDJsabWvXWi1rDvoZKwiOqDWCY0X5dVVJjcdiixGjp/gEanVlfsF85ILV1SqHx0ajt+JiWtMd7cTKXltNgUaWbfTy/DX3herFzs4HWwrH1/+zqFWACk3Vun6jgoAhBMcqiq2sOtO8wx2DX6haW32S6b/LzaexSfQjd3SxMW9uucNbqqKyTPt+hO6z9ck0BeSnT/2+rCqcmInTVamaTffll+MKf9VUHFFrBMcq0jrN0qvVt59v+PMkBc1lVqU0lIZFGRPfBLNYZjPy6R+3k8vccdm2546Xh1L5beJ10/GsdPvKlN5c0+Wqf9tZvG8Tz1NDx/v71L+t/u2H/Sz2WdmB+yv2bcT9qqF93sOdfyO0R9lTKjlKaHl9ae1+ptW7rgz85f22k4Ek87la7HZVe5w+kWn77e3WE3UO5P7cG0bzvPpsHtVZPB9H/Z2c6L5cM//8vGp2G6rTfnp46D7q9gPXOdHjsbE1o159HHV4XyU0ovYIjlXk45QOx3R2x4fIhpbgpItMaXx/HbdBZsN5MoOPPx0uk+M2JsUQ6Pq3H2oN7maycBNGzslSnycd+gJlxW5Iy45uZHHBiXB5WHgi07oRw5l15dFG3HcVm4TKd+izYlhEOjyyrHik4W6zfuuykc0aoUUpiyUCm9bvztJz5EuyaffSvZS7bp1mX6ZMm8X9JjG4eHl9Ref5HT+YRMc+kctrbXd049mzB/eHt790ae1d91RsuO0XZfu07XALWhos4x7h1vb2w9Xh21lafrvl9umGO9p2FdILah8D96dSn813trrdxs1UVby4vLbh9uFOuo57/ay4/YpPpN4zOMZd9pk7WHS/lts7nzy8W9rndXfle+7+3v90+8Gtgeco9huUgSyDj3P9iu9XaUwzPR/u1fT+J6XbLV3/wMea+ME0WSa/kyvl34k15uZpN3UXg4l0GEw0bw7+/R9le3f+c3fQdF+RrmXG3iquM+J3OK4wojpU5VWN+PfIcEwBdcZ0PFVkbTsMeowpzkdEP9TDpp7dvpO3ThkwXU3F1KSL6FR+oyw+JezAfem4VE3Iif5Q969oi9vWfg3tGAzTFnK+7S9xE/ZgT//CsO/hUehS3/yYff3V07oOaWELGwYIxcdurdGlIZFpPUEbA7MtPyzjp+JRJ1qxUYJK+lleXrsTA5pE5VZ5O7nMBxoJeEpJBagdL2q6u29duvTOreHtXaiSQCQhruP2Uapri7Ktu42BEd3usW2GB6xXXKWpWb7ssp8mJ+yTBA61j+H7K/bP3eb8gnkuAUsdg9vf9/3NGPXW0EXxeQqHiTa9dRUe09aeoOMH47jnIDwXso9NY/V7Fy++vaKOQR5z1si+Jf1S5f7cnbZUeNxNnWWPj/uYR4mhN/3+Vbwf/xjkdxpeO33+vrX5aNztE1dHfxSv047PU/odfjT82jiMTW8UNcxPQ++EQC1Rcayi3K66Ss66VN5sbJL1h0FMWa4GkcfLiyqf6h/pB0jtK31ZMZowVPn6KStsLpU9Y1S8Hx3nB46BMOXC/ngdm5qQi+ZolXJqiH/xPvuPKT6GdMexadzm/jDuhy03m4d55uSx+7vJil22A/cV03S52d1V1046YLQ0qrZ8S092d7PvpBOx7+OGfziuwpZ3sw1pPvTNiQtGwtoNCUDu9CMJS/ttL6ddZaml1GDYksqYVJUkIMwtmHVVCoh5nq/EqnR7VFVLSOi18f7cY9js7WZ30zQ2xuTvuafwmgtY99z+be08a8l2G6liKIFrZ0SVs2DMlpKKXgi1i6XpcVbiFosS/PrVvewN/+9Q8E7SQBx/G7nxoc99IZAQtaWOoPwcuxfGTfcYWumy15fW7kp3g/SYT6XpOoZe9wTLqPvVdJupguue9w33PHxHnoe4b+/FfZNq4fWDth+6p477XV5P58fbktdoc34+v6eO0P/T2sE3jHqpYVoGhhAcq+inL7TVAVUkHMz++e/fUfpkH4y+UlWiQ7VHRlY/jiOrO93c3Iot6e1ys2wMA+suhL0mwSoNqNlve+GaX9ddeJTq3cAk18bY97OGXnFXe9fd790i7IRQJdn8fbUfk78b67Otne37G+ls6bPpbuumeywrcn9zr+Tr7vCuOgIfal3zqjvabMg0Rq5aVgqzso+uGdtPobMlAdY3QzsueH84fFtSMU1VSNk397y5x6TvudtqqiPq2fxaqFD74NsqXyZBPVswEs4XG68YCbIfqhPwIds9fvfTjlM1FUFU5uF0l78hv/8UgOPzE7dv7Lu9a2KX18ZW+b7cF8nNcpiU58kFzJtSQU0V6XGbrP2XQq1qOmuD3tMeAtQNTdXAED/R7wnbqqXaVv5pZL5fnm9SdNU/H/qyOFDG3cvIip9R+mM5bGgfLg7dXo0IMp9++sGjeL+L6X5LgUX94AeNR2o/VvttbGY+Hr4ohhZ/f9pk+w74OUh6HFm/UuoPTW5u+vNjc3VqpnYf2B+OqvKVq7j+dhuNtjombUNzf+qjWf5xQdn3ywzbqavqhGwMtu5xfbxPaAu/57idez1cKW3f2W9797zu+X1o09gaPi8GSX87LryvqCPseS3bqVWcH5fciJojOAIjmJPlxj2kwuNuMwUlHwDcx6//0Hb3M3IpPB0vN9b+yDjbu9sf2XRa9CccCmhSSTyoyuTuP0ytY/a73bBfRtmX6jikuTrc0ZXQ1y/0wfNhN1RsF0M/xdBM7Xxr1M2cybQ/7v6leX6/n2LfJ8B9r/nsiFdR3a46uFk9G/825W9DpuQx9iQTVs0iliEFBMERGJLWqjanvDKGK1a8NnSOr+Rl+0zRk4Kejdu5z6wXB23vKnRvjTpf+iaqWO1curT2bhpY0e3qTXWw74T7G+w7KaRfoo4VMFcR/UgdQ6x4tZWv4kmzuJIwu+UPsljNDM20TTk+qpn6tLkm3SfF/rnm3+GfXpa1/E9v7sRT/mhr2/4+lXpj5Dra2q74y+N2OguH7vxrB20vFcnhi2If1wFhdHb4cpD/INtznf34pmq/YLWqmWKoIOERtUZwBIbICOxwePxPRpn/r/zjR08rfS1e7Ctncy6A+FMuyMnlKQzI4dLSDRkE0ZTTedcHP5cLzKPy9sV9DW0/TJo1U9VR2dgX8ZBqo9/EmNZ+9ze/YNP9tYebio/C9ptj1/1pm/vTvR80Wum+/cE+zdSnLd5vZ/gxCzk9b8zz+bC+9eI4t1ceXV/+kT6F3W6j6EawsJDfK49uHjUSv9i3Q7Y3xuzpbyp9XF+/tFZ8sfCj6sPAnNEj1Q9g48i3Oq5oqhWpESA4AkN8MSUMvT72Z0QKGOnHxsFKWtlHaRSzNF+79r7b/p7c5dKHTubdk2luXEq8Fc/fTB/qUqHzzaRxe5kLcWlp7aPy9vspVR3jY8zvH/YYRt5f2D/XrGnX5XyTm9snaioebPJtpwEcPiQODjD6ljoHPmQbW37Mz2U+TDlMv8Py7+QwMrp+1I9UAMN9mevhNvU1+T36+3PPc/m+0utFtk/9Pw/afr95JmVKHnm9yHXyEH6bcrO9buOmOoIQGv2/tcpQYa6x2i3QDexBcARGMMae9oq07RACHl4vn7mz8/CuTPuiSvM3qjgnoQsJ16V5dGB7dzqGTdleJgCP/SXdeUMjuQfuPAQx37zqRwyPOYm1v//+/i3G/fO34ULPahx8c2yl5uqimTpJzdXiPJqp+/s08Dtpxqpnc7/fycnu64MtGThVGoXfVGmOTpkcfei+5Pk+yvaJDstc3o+vF7mO/x12d/0UQG11BO71F+Y6rVmECisFUG8E+CsAhvz3/34nTvWo1K//6eK5/Y2E5eB2XROm6bTb32wftv3S0s9eGXfbOG+fVJnkj359v7kbD96/n2nOz2eL3e5C+zyajadB/zGP9zyf7L7WF+fmeld6vV57nPsaZ/u0coyEfAmpR32NjZL+PsSvnePfx8R9+0WYwFJmqPprr/HZidpiHkdgSEiNfrK6cy2pxDA29qCL7e3fG3vb3PQ2YgND+zih0V/xjIPTNDrPxxx//1tntX3pOica2FOa3L+Orba0VaP2aKoGhvjO/77jfzX6cMXlBf3ACM3E8DihMJFhDfs4xgNGVaPuqDgCQ9LAmKqMGY0rjkg/uGNXG4EkzmUYlgatEQqNQEBwBIakUTFV+aAI0758vqVQO93d3dVw7NVT65Na57WqU2IG6ozgCOyhVRxTXYkPx9ivrRaDWTDoLPpoxpFjtas4etIOweoxqDn6OAJDwlJqfmUMigvAMN8HuBgkUyssOQhQcQT2SMXGtIIMgD4Tu3LomlUcdej+zHsCao/gCAyxxSyOAPaIg8fq9hdCaAQCgiMwgrF1naYOOJiJTdQ1XEWlnv06gSEER2CIjX24dM3mqQPGE/4uTO36ONq6tc4DIxEcgSE+NLpyijWUHIFhcTaeykyQP75YY9XK8saAOiM4AkNCxZFWKWAU+duQL1b1qzgWUxHxxoBaYzoeYIgtfmiqBobJGu7G1G/JQaErs54UcHwER2BIUXHkIwLYI01TVc+uHLwpADRVA0OsCZ0cmf8b2Ct8p6rlsoOxlZ74iHojOAJDQj8mOjIBB7H1GyISKq0KqDeaqoEh1q82yAcEMIoxrrHa1G9kMf0bgYDgCAyxyuhaLsQLjEf7gTF1m8WRdaoBj6ZqYJj7QDRKZqojOgLDpOKoM1W74FjCGwNqjYojMMTPT1fM5QhgkFbSVG1q9veRmqopO6LuqDgCw1xBxcT1xf7bxv+999NR1rHW/WYryZg6Ldxr/fTA8TIt6TOcCrP7xO20b/fyU4zL6O04oXK6fjg/LVIRV+qIt5G2V6p0P8XlpT5YeoxmtbivNk5YmfYnrrdYur62aebjuIEq3+/A49/zPIUjA89Z6fEU1xo4L65KEpfwKa5b3EbpeVVDz235NlV/34rnUZX22f8q9j5P/mbCcxAfaly3fL/FmdNuln4P/m51/xc//DjDrtqh5ypdsX8/abv++aUxvUOPdcR+hdfIPre95/c2/DtS8bGn5zzO22h9PV7Vru5WNFWTHFFzBEdgiC3Sglb9T/fYp6tICGHLflLop54iQch8dzqGnKDc+q1jHgjXN/G208jNcIH/sI9JRsXzS/cTdzaEKnfCpCSkB6qlMcCFHFast2vjPqQNbEw8KsawgcfX397vaHga+tvpcvevfiDxj8uGPTU6BltdPBCbwkj5OU3PV8zFVvWDctGvrvw44yPUpefW367Rxb67/41/snUMl+H3a2Jgjr/SFOms7+OaniH/1KR5C+X6aX9VKcyWnm9bCljxuSrCYxHsrbaDqS8+P+XXiFZqMFrGaaLiRjFQxodTit0p+Ol4YXy+bHwui7SfvgqEl1m8ni5+qXFfdRYfizG6PxGNLm6kjmiIQN0RHIEh4YM4BaYiOBUXqhi4+h/tupS0rE4bhE9mqweyZriRkUcHwlNxn7r/aZ/CSn/jcnUofZgPD/0sBS7VL+Lt6ehf3K4afViqohbBKD1eW7r/cgANV+vfV/GYfDnOFgFluMoVn1Nd3I4eqIClxzl4H2rgIavyExNvpBzwSvuZar8h8IY82t+2HHDD85i+WKSKpY2BOFaDdb8qXARjf6h1MVzfDr2utNqz9rMdCmflX09RJC4tjWlLtxOe61TqtqXA2v9VpXJreeFlW76jGBj7O6TswGu8//qriX7RmEEyqDeCIzDkt+0XT7fv72lWKE7jtqbhNuwpbXNW93mc/Tvsuqf9eA4ziee4wmxxoAmOqDUGxwAAMB5NbETdERwBABgTfRxRdwRHAAAOR2QEFMERAIBxaJYdBAiOAAAcavRsBED9EBwBADiEn0dT1WwOImAEgiMAAIfRpelLgRojOAIAcIjYv1FTc0TdERwBADiEtYbECCiCIwAAYyA3AoLgCADA4ejcCCiCIwAAh4tT8VB3RN0RHAEAOEyc/JuyI+qO4AgAwCG01lJtJDei9giOAAAcIq4aQ0s1ao/gCADAGOLk31QdUWtzCgAAHCg0U+vwD1BjVBwBADiMJjQCgoojAACHsNaGqmMIkEBtUXEEAOAQMqhaAmMcJAPUFsERAIDDSW7UpEbUHcERAIBDSEu1tFJbGqpRcwRHAADG4bs5UnNEvREcAQA4nC81snoM6o5R1QAAHC4uVs3gGNQbFUcAAMbgR8YwPAY1R3AEAOBQVkbGyAgZmqpRawRHAAAOpX1oZB5H1B3BEQCAMRAaAYIjAACH0v1DmqpRa4yqBgDgcDb+Q9URtUbFEQCAQ8Qyo1ZUHFFzBEcAAA7nQ6NmOh7UHH8BAACUfbv92H08vhEWp5asqG1cpdp/Zsbw6EdYhzRpW+qvNW8qoAaoOAIAUNazEgJfplHUclju22g9Ey6Tf7p2UwE1QXAEAKDspy+03b93B8/sd23U6f9gI24P1ALBEQCAYXPmfVdabPfPKMbFWBVWj3GHqq2+77YDaoTgCADAsNULHZXZ26VzrNaZtF3r2IStVe6qjdfddkCNMDgGAID9fPufP9bKvlEaGCMDZeSfLfVTzVUF1AwVRwAA9mPz20r3x8HIoBh/JAygAWqH4AgAwH7+qwtPrMp/UykfH1Ph8S4DYlBXBEcAAA7SUBvu345rnnat1qqtegyIAQAAwH7+4Yt31bdfWPX7f3RDAQAAAAf6h+17CgAAAAAAAAAAAAAAAAAAAAAAAAAAAAAAAAAAAAAAAOeu2VxfVMCM0QoAUBsSVuZeVVfkeO9z9aTdbnXUDCo/jsNM4+NcWlr7yH0CX8m0vf3JJw/vKmBGzCkAQG1I2NLGPA6nsgvun5kMjvPz+TVl9JgruUzX47x8eb2ZG+NDr7FaljAkOGJmZAoAAJybp09bbavUprV2y+RmU52jpR9bv7K09M7j5eV3vqWAY6DiCACYOdvbD1vuoJVOX7y8vpIqqdvPHkx9N6ydZw821ARYoxa11isuuLYVcAwERwDAoaRP4fy8asrx7e3Wk3G37zZUp+0qbGoMxXW6qn1WfRKPtV+uaVl97rYfsU8H7fPS0rpvjh7n+TpwX8d4PmQf3Qd68zT7c8ptzudq8bD7P85zitnF4BgAqJFyZa67m11wgaB90PYh/OTvKVelKp3ddh8eG8+ePbh/ku2Xlteeu4OmNfZ2lqk3rNLXigutetLtZtcP279Rj2tUxdFfnud3Dtuv2P/wud8Fk61qHa9jdWt7+/7Ni8trG+46d6SZOdN6y1XuNvr7bFvdbuP2K6+YG8b689Oo6bZ7rlfLj0Wai1Wo/G2m6qN7Plru4Ibcl5I+mdreOuz5GPl8u/2wmfpYW/2e7OfO9sNVd3/rbpuRfULTNnJcQuDCgnnX7det0v6nx7ZZvn//XOX5veHnVNne9e3t3ztWWMb0o48jAGAkH0q0eVwKBm0VBpk0XbBoLS+v3TnJ9onO9J0YGtvWBaRwproyv2A+ckGmqU7o9dffvuZDpQQ1uX0JVi4spf26dOmdW6P3ywyHov5lIfRtDO6zXp+fz99zodEPdinOd/fjHstjNS5tr8XQ2Bl6PgZuQ4Jb+fmO27ZlPyQ0qmOYnzePUxi2yj6Sn3Sbcv/lKYRyU9x32z3m9+P9u32ae8xUQ9VFcAQAjKaNDKBY9NWu3ewLrpJ3wf18QapkcrEEjIsX31459vYl1phV2X5n+8HVRuZHQbfltlwQG3Pk9P6yRvZevP9Nuf3t7Yc3pcKW9su4kLVPQF2U/eru7l7odvXt4Qvl+mmfJTj5M13AUqHCeFXOl+vHzZv7PfaR9xtu+wv+tpW5Puo28lBhXYz35/dD9kcquMM3KH1CpRJrsyztT1tOy0+qNoaqpJ/iKOz/s4fX5acRrtOW+5dg7HckBMNmeCKy659uP7gl9+9O3Xeh/Emj0VtRqCSCIwBgD6nSqRAMOrGJtOjjFptWffOuq7z5KqIPHWH79sjtQ4Wv2L7Maru5s/PBVjrtRx0bc1OFK6ykvoInfBzt4QEpcjpV9OYWzPrwdV2T9C3Zr3b7m6P6+HXKtzffyO6WrreRmnTl+kXVsKHHfRwD+/rpsw8eFbeRZStyIE3v8XGp4WbwnZ2Hd1MoPgpX9X13eP+F/D7c7y/cng7dCeLz0Qln5Xfi/kg3gXUJop9++sEjhUpicAwAYA/dyHzIkerRyH6GEgS1vuF+mv6kO5SOhe7n4336JUrQXEnbD9yXaWwNnyeBa2l5re2ONo3KZV+O1WcuPQ65HXd7dt/trH5t+Dxrs4/3216el/0u293NvjNw28p2/DNj9VjNt/Ic7j0v3kY6neeuSdifbo96vm1unrjHro5Ch2qjVFJbsb/lKItSnZX7dJXNTZ3p96SbgTbmmrtOx+2nC8qNzeMOCML0IzgCAPaVaf1y1PnG2E7W8MHlxH3Zut19J+dejDvxmTou7QKXDQHLxirpKNbkT46wX2fK2hM83kjPz3XcL0kdkTzeRRmc46rALw7Zzlc2XTXYfYEw0h/zDeX7jLqKpDbXXKX3OlXHaiI4AgD20NbKgAipPr0h/dmGm2qzhvJNlqnydtj2boMVXzeT7YbEZuKN8nlxdLMPjpnJDgoxB8vd/mUh4I6aO9FPtSN2s4mExOOS51GHimMzVQDLl2vTWz9ybzT5Xcqgn8x8vDO0DKLv0/hqCPLl322sLK7L8aWln3UVy7l7finFzDd7ExwriD6OAFBTjVfMl6Vv2vCP9CnsdhthNK0foOJH0zbT9cLo6EyWypOKZEsO4/a+YrWwkN87bPsyF3/eddvcSKdjaEwjiNsnafbs9ebCSGO3X0tL7wyMNJbHOm/Mc/lxz8UbaobEPqFtOR5HOzfTZeG5zG6Mup7Oiypqc3hAkLXqQ7+N1XfKl4UpevJ78jzN5WGwkgzSkaZ/+UnbyhQ8NrOhqqvHa5bH7KHiCAA1lVlXEbKjmjN1q92+f9NVkK7L1CpxKpjnsc+hjPj1oSCO/PVBQapQLkxc11n2WJor3fbXDtp+yGLsV7chJ1xobMbzOzLwQ51A3K+bsl8uzNxy97HuK2vKBZtivWj1/qfPHnyoZo3thd9PmO7n+dLSmqsY+ueyqVKz8xCZzHt+IY6Qjr9T6VP57NmDa6Hp+Z23pOpY3J70rdTmilU+CHZ63YYftFTugyrB1V1vK+xTGDzjntPvKFQSFUcAwEhSQWpk2dU456FoqhBGOlbb23tGKbswIVPpjLt9EkcA34/bN/15cht2cLTwcfX3yw+wWfRzD4aBIH6/ZCoZNYP6v5/+XI9KBhPJnIrajhxVLUFaptcpzzFprP2R/m0W0xR1/O2FeRoX5fchU/SUfx9xmp7we5NpiMJURCGIz+hzisNpBQDAIaS5cm6ud6XX67VleprT2D6tHOOCy81Ptx+2wtJ1u81u13TGuY/jOOrjmBX9525h7OUaw1yMny/u+/vxfRalSrkwxpKD4fem1Kuds1ouEtOB4AgAmIjh4KgATD2aqgEAADAWgiMAAADGwqhqAMBEdHd344jpV+kTBwAAAAAAAAAAAAAAAAAAAAAAAAAAAAAAAAAAAAAAAAAAAAAAAAAAAAAAAAAAAAAAAAAAAAAAAAAAAAAAAAAAAAAAAAAAAAAAAAAAAAAAAAAAAAAAAAAAAAAAAAAAAAAAAAAAAAAAAADT4f8HZHiXYsGLfAUAAAAASUVORK5CYII=)\n"
      ],
      "metadata": {
        "id": "d2dh5tonLFzR"
      }
    },
    {
      "cell_type": "code",
      "source": [
        "# while loop --- Prnt number 1 to 20\n",
        "i = 1                   # intialization of variables\n",
        "while(i<=20):           # stopping condition\n",
        "  print(i, end=\" \")     # inside while loop\n",
        "  i = i+1               # updation\n"
      ],
      "metadata": {
        "id": "tRjVUw4ZPrqy",
        "colab": {
          "base_uri": "https://localhost:8080/"
        },
        "outputId": "bd9e4dbf-025c-4f14-929e-02bd05fd03fc"
      },
      "execution_count": null,
      "outputs": [
        {
          "output_type": "stream",
          "name": "stdout",
          "text": [
            "1 2 3 4 5 6 7 8 9 10 11 12 13 14 15 16 17 18 19 20 "
          ]
        }
      ]
    },
    {
      "cell_type": "markdown",
      "source": [
        "**For loops:-**\n",
        "\n",
        "Before going for \"for loop\" we need to understand what is range() function.\n",
        "For example:\n",
        "range(3,13) : It will start from index/number 3 and goes upto 12. 13 is not included.\n",
        "\n",
        "**Syntax:-** \n",
        "```\n",
        "for variable_name in range():\n",
        "    body of for loop\n",
        "```\n",
        "![python-for-loop.png](data:image/png;base64,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)\n",
        "\n",
        "                  "
      ],
      "metadata": {
        "id": "ib1HBQuHMJA-"
      }
    },
    {
      "cell_type": "code",
      "source": [
        "# print the number from 1 to 10\n",
        "for ele in range(1,11):\n",
        "  print(ele,end=\",\")"
      ],
      "metadata": {
        "colab": {
          "base_uri": "https://localhost:8080/"
        },
        "id": "Sq0Kp7JXO0Rd",
        "outputId": "fa2bf786-48a4-40aa-d99a-cfbcb8e910bf"
      },
      "execution_count": null,
      "outputs": [
        {
          "output_type": "stream",
          "name": "stdout",
          "text": [
            "1,2,3,4,5,6,7,8,9,10,"
          ]
        }
      ]
    },
    {
      "cell_type": "code",
      "source": [
        "# print only even number from 1 to 20\n",
        "for ele in range(1,21):\n",
        "  if(ele % 2==0):\n",
        "    print(ele, end=\" \")\n",
        "  "
      ],
      "metadata": {
        "colab": {
          "base_uri": "https://localhost:8080/"
        },
        "id": "Mkxk1BljPMAS",
        "outputId": "f1b916a7-1659-4b87-d6e9-84e7d9032ebb"
      },
      "execution_count": null,
      "outputs": [
        {
          "output_type": "stream",
          "name": "stdout",
          "text": [
            "2 4 6 8 10 12 14 16 18 20 "
          ]
        }
      ]
    },
    {
      "cell_type": "code",
      "source": [
        "# For loop with else:\n",
        "for ele in range(2,21):\n",
        "  if(ele%2==0):\n",
        "    print(ele, end=\" \")\n",
        "else:\n",
        "  print()\n",
        "  print(\"No element left\")"
      ],
      "metadata": {
        "colab": {
          "base_uri": "https://localhost:8080/"
        },
        "id": "wkGzeFqfPqin",
        "outputId": "e4520b43-1500-4ddb-8b40-5180277334dc"
      },
      "execution_count": null,
      "outputs": [
        {
          "output_type": "stream",
          "name": "stdout",
          "text": [
            "2 4 6 8 10 12 14 16 18 20 \n",
            "No element left\n"
          ]
        }
      ]
    },
    {
      "cell_type": "code",
      "source": [
        "# If you want to take jump in range then you can add step size in range as shown below:\n",
        "\n",
        "for ele in range(2,21,2):\n",
        "  print(ele, end=\" \")"
      ],
      "metadata": {
        "colab": {
          "base_uri": "https://localhost:8080/"
        },
        "id": "YVaGvjCcQOQP",
        "outputId": "e893e1c7-e8e8-439d-d540-8df2537681fb"
      },
      "execution_count": null,
      "outputs": [
        {
          "output_type": "stream",
          "name": "stdout",
          "text": [
            "2 4 6 8 10 12 14 16 18 20 "
          ]
        }
      ]
    },
    {
      "cell_type": "markdown",
      "source": [
        "**Print table for number N which is entered by user in fromat as shown below:**\n",
        "Suppose user enter 5 then table structure would be:\n",
        "\n",
        "5 x 1 = 5\n",
        "\n",
        "5 x 2 = 10\n",
        "\n",
        "5 x 3 = 15\n",
        "\n",
        ".\n",
        "\n",
        ".\n",
        "\n",
        ".\n",
        "\n",
        "5 x 10 = 50"
      ],
      "metadata": {
        "id": "LJZvAr72RTz6"
      }
    },
    {
      "cell_type": "code",
      "source": [
        "# Solution to the above problem\n",
        "num = int(input())\n",
        "if(num != 0):\n",
        "  for ele in range(1,11):\n",
        "    print(\"{} x {} = {}\".format(num,ele,num*ele))\n",
        "else:\n",
        "  print(\"your entered number is 0\")"
      ],
      "metadata": {
        "colab": {
          "base_uri": "https://localhost:8080/"
        },
        "id": "g2duUvFjRLNY",
        "outputId": "e01d3c2e-2205-4160-dbb8-5361085b7297"
      },
      "execution_count": null,
      "outputs": [
        {
          "output_type": "stream",
          "name": "stdout",
          "text": [
            "-8\n",
            "-8 x 1 = -8\n",
            "-8 x 2 = -16\n",
            "-8 x 3 = -24\n",
            "-8 x 4 = -32\n",
            "-8 x 5 = -40\n",
            "-8 x 6 = -48\n",
            "-8 x 7 = -56\n",
            "-8 x 8 = -64\n",
            "-8 x 9 = -72\n",
            "-8 x 10 = -80\n"
          ]
        }
      ]
    },
    {
      "cell_type": "markdown",
      "source": [
        "**Break, Continue, Pass**\n",
        "\n",
        "\n",
        "*   Break, and Continue can be used to alter the normal flow of a loop.\n",
        "*   **Break ----** used to exit all coming iterations in a loop\n",
        "\n",
        "\n",
        "*   **Continue ----** it just skips the current iterations and moves to the next iteration\n",
        "*  **pass----** if you want to keep a block as empty just write pass\n",
        "\n",
        "\n",
        "\n",
        "\n"
      ],
      "metadata": {
        "id": "5LY5ZKkFTWzG"
      }
    },
    {
      "cell_type": "code",
      "source": [
        "# example for break\n",
        "for i in range(1,10):\n",
        "  if(i==5):\n",
        "    break\n",
        "  print(i)\n",
        "else:\n",
        "  print(\"No element left\")"
      ],
      "metadata": {
        "colab": {
          "base_uri": "https://localhost:8080/"
        },
        "id": "RL6gECy7WQNX",
        "outputId": "e7660df4-f059-43bf-9156-9a9fea03af4d"
      },
      "execution_count": null,
      "outputs": [
        {
          "output_type": "stream",
          "name": "stdout",
          "text": [
            "1\n",
            "2\n",
            "3\n",
            "4\n"
          ]
        }
      ]
    },
    {
      "cell_type": "code",
      "source": [
        "# example for continue\n",
        "for i in range(1,10):\n",
        "  if(i==5):\n",
        "    continue\n",
        "  print(i)\n",
        "else:\n",
        "  print(\"No element left\")"
      ],
      "metadata": {
        "colab": {
          "base_uri": "https://localhost:8080/"
        },
        "id": "CRyFWxENW_Sa",
        "outputId": "100f1897-890b-4cd6-9b52-d12b874ac401"
      },
      "execution_count": null,
      "outputs": [
        {
          "output_type": "stream",
          "name": "stdout",
          "text": [
            "1\n",
            "2\n",
            "3\n",
            "4\n",
            "6\n",
            "7\n",
            "8\n",
            "9\n",
            "No element left\n"
          ]
        }
      ]
    },
    {
      "cell_type": "code",
      "source": [
        "# example for pass\n",
        "if(4<6):\n",
        "                         # I cant left this block empty as it will show syntax error\n"
      ],
      "metadata": {
        "colab": {
          "base_uri": "https://localhost:8080/",
          "height": 130
        },
        "id": "1iH0yM3tXIRj",
        "outputId": "f0d041a4-bf17-4107-d16f-20b819352f2e"
      },
      "execution_count": null,
      "outputs": [
        {
          "output_type": "error",
          "ename": "SyntaxError",
          "evalue": "ignored",
          "traceback": [
            "\u001b[0;36m  File \u001b[0;32m\"<ipython-input-20-ed0579f48cbd>\"\u001b[0;36m, line \u001b[0;32m3\u001b[0m\n\u001b[0;31m    \u001b[0m\n\u001b[0m    ^\u001b[0m\n\u001b[0;31mSyntaxError\u001b[0m\u001b[0;31m:\u001b[0m unexpected EOF while parsing\n"
          ]
        }
      ]
    },
    {
      "cell_type": "code",
      "source": [
        "if(4<6):\n",
        "  pass"
      ],
      "metadata": {
        "id": "hWLZEFAiYM5_"
      },
      "execution_count": null,
      "outputs": []
    },
    {
      "cell_type": "code",
      "source": [
        "for i in range(1,10):\n",
        "  pass"
      ],
      "metadata": {
        "id": "l06_u93NYVfx"
      },
      "execution_count": null,
      "outputs": []
    },
    {
      "cell_type": "markdown",
      "source": [
        "**For More Program relate to Basics Python you can visit below link:**\n",
        "[Click Here](https://colab.research.google.com/drive/1KJF1fFw-CisQs6R0JWEXR4a0RvlzU0NG)\n"
      ],
      "metadata": {
        "id": "duz5n6SAT_Qo"
      }
    }
  ]
}