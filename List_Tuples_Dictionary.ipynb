{
  "nbformat": 4,
  "nbformat_minor": 0,
  "metadata": {
    "colab": {
      "provenance": [],
      "authorship_tag": "ABX9TyNzuukf8uSTsnQ3hfnG8tyn",
      "include_colab_link": true
    },
    "kernelspec": {
      "name": "python3",
      "display_name": "Python 3"
    },
    "language_info": {
      "name": "python"
    }
  },
  "cells": [
    {
      "cell_type": "markdown",
      "metadata": {
        "id": "view-in-github",
        "colab_type": "text"
      },
      "source": [
        "<a href=\"https://colab.research.google.com/github/ashish-pro/python-Learning/blob/master/List_Tuples_Dictionary.ipynb\" target=\"_parent\"><img src=\"https://colab.research.google.com/assets/colab-badge.svg\" alt=\"Open In Colab\"/></a>"
      ]
    },
    {
      "cell_type": "markdown",
      "source": [
        "**Lists:-**\n",
        "\n",
        "\n",
        "*   Ordered/sequence collection of elements\n",
        "*   indexible\n",
        "*   mutable\n",
        "*   can store hetrogeneous elements\n",
        "\n",
        "\n",
        "\n"
      ],
      "metadata": {
        "id": "dqFuH8Yh5Wre"
      }
    },
    {
      "cell_type": "code",
      "execution_count": null,
      "metadata": {
        "id": "4Pe_-oNd4Me-"
      },
      "outputs": [],
      "source": [
        "# Creating an Empty list\n",
        "lst = list()\n",
        "# or\n",
        "lst = []"
      ]
    },
    {
      "cell_type": "code",
      "source": [
        "my_lst = [6,8,9,3,4]\n",
        "print(my_lst)\n",
        "print(type(my_lst))"
      ],
      "metadata": {
        "colab": {
          "base_uri": "https://localhost:8080/"
        },
        "id": "NacYuGKT6GlJ",
        "outputId": "85a91976-ab1e-40b6-a493-79287668b19d"
      },
      "execution_count": null,
      "outputs": [
        {
          "output_type": "stream",
          "name": "stdout",
          "text": [
            "[6, 8, 9, 3, 4]\n",
            "<class 'list'>\n"
          ]
        }
      ]
    },
    {
      "cell_type": "code",
      "source": [
        "# Indexing / Slicing of list works same way as strings\n",
        "my_lst = [6,8,9,3,4]\n",
        "print(my_lst[0])\n",
        "print(my_lst[-1])\n",
        "print(len(my_lst))"
      ],
      "metadata": {
        "colab": {
          "base_uri": "https://localhost:8080/"
        },
        "id": "R3RuG6S86V16",
        "outputId": "65bc3997-3330-4de1-90f9-dfa1dcbba7d9"
      },
      "execution_count": null,
      "outputs": [
        {
          "output_type": "stream",
          "name": "stdout",
          "text": [
            "6\n",
            "4\n",
            "5\n"
          ]
        }
      ]
    },
    {
      "cell_type": "code",
      "source": [
        "# Updating / Changing the elements in list ------------ Because list is mutable\n",
        "my_lst[0] = 60\n",
        "print(my_lst)"
      ],
      "metadata": {
        "id": "fkqXhU8K7H9G",
        "colab": {
          "base_uri": "https://localhost:8080/"
        },
        "outputId": "5bd3e90d-ac30-4f0c-8a70-8d77661f3240"
      },
      "execution_count": null,
      "outputs": [
        {
          "output_type": "stream",
          "name": "stdout",
          "text": [
            "[60, 8, 9, 3, 4]\n"
          ]
        }
      ]
    },
    {
      "cell_type": "markdown",
      "source": [
        "**Some Important Methods for List:-**"
      ],
      "metadata": {
        "id": "qxz8GFFXkJY3"
      }
    },
    {
      "cell_type": "code",
      "source": [
        "my_lst = [6,8,9,3,4]\n",
        "print(my_lst)"
      ],
      "metadata": {
        "colab": {
          "base_uri": "https://localhost:8080/"
        },
        "id": "tZ58hak7j6n2",
        "outputId": "b9327bda-58c9-4546-f264-736d9fbfed65"
      },
      "execution_count": null,
      "outputs": [
        {
          "output_type": "stream",
          "name": "stdout",
          "text": [
            "[6, 8, 9, 3, 4]\n"
          ]
        }
      ]
    },
    {
      "cell_type": "markdown",
      "source": [
        "**append() method:-**\n",
        "\n",
        "\n",
        "\n",
        "*   append adds the given elements at the end of the list\n",
        "\n"
      ],
      "metadata": {
        "id": "nP-nR6Yoku2l"
      }
    },
    {
      "cell_type": "code",
      "source": [
        "# append\n",
        "\n",
        "my_lst.append(10)\n",
        "print(my_lst)"
      ],
      "metadata": {
        "colab": {
          "base_uri": "https://localhost:8080/"
        },
        "id": "U57vl1rfkbhR",
        "outputId": "591ed36c-0081-4c9a-fc7d-2dd2e81436bb"
      },
      "execution_count": null,
      "outputs": [
        {
          "output_type": "stream",
          "name": "stdout",
          "text": [
            "[6, 8, 9, 3, 4, 10]\n"
          ]
        }
      ]
    },
    {
      "cell_type": "markdown",
      "source": [
        "**insert() method:-**\n",
        "\n",
        "\n",
        "*   The insert() method inserts the specified value at the specified position\n",
        "\n",
        "***Syntax:***\n",
        "```\n",
        "list.insert(position,value)\n",
        "```\n",
        "\n",
        "\n"
      ],
      "metadata": {
        "id": "oMqwcjIrlm2R"
      }
    },
    {
      "cell_type": "code",
      "source": [
        "my_lst.insert(2,88)\n",
        "print(my_lst)"
      ],
      "metadata": {
        "colab": {
          "base_uri": "https://localhost:8080/"
        },
        "id": "ZKPQgrUSlImx",
        "outputId": "58a720bc-788a-480d-837f-c04887cb75b5"
      },
      "execution_count": null,
      "outputs": [
        {
          "output_type": "stream",
          "name": "stdout",
          "text": [
            "[6, 8, 88, 9, 3, 4, 10]\n"
          ]
        }
      ]
    },
    {
      "cell_type": "markdown",
      "source": [
        "**pop() methods:-**\n",
        "\n",
        "\n",
        "*   The pop() method removes the element at the specified position.\n",
        "\n",
        "***Syntax:-***\n",
        "\n",
        "\n",
        "```\n",
        "list.pop(position)\n",
        "```\n",
        "**Note:** The pop() method returns removed value.\n",
        "\n"
      ],
      "metadata": {
        "id": "wUln9xYMmneD"
      }
    },
    {
      "cell_type": "code",
      "source": [
        "my_lst.pop(2)\n",
        "print(my_lst)"
      ],
      "metadata": {
        "colab": {
          "base_uri": "https://localhost:8080/"
        },
        "id": "_eoF0AXRmXDg",
        "outputId": "ac170fa6-e0aa-4e8d-b72d-a1e11103e7d0"
      },
      "execution_count": null,
      "outputs": [
        {
          "output_type": "stream",
          "name": "stdout",
          "text": [
            "[6, 8, 9, 3, 4, 10]\n"
          ]
        }
      ]
    },
    {
      "cell_type": "code",
      "source": [
        "# Delete the last element from list\n",
        "ele = my_lst.pop()\n",
        "print(ele)\n",
        "print(my_lst)"
      ],
      "metadata": {
        "colab": {
          "base_uri": "https://localhost:8080/"
        },
        "id": "0OlwXSP3nl8U",
        "outputId": "9da81578-f32d-4459-86d4-e0e36e331e85"
      },
      "execution_count": null,
      "outputs": [
        {
          "output_type": "stream",
          "name": "stdout",
          "text": [
            "10\n",
            "[6, 8, 9, 3, 4]\n"
          ]
        }
      ]
    },
    {
      "cell_type": "markdown",
      "source": [
        "**remove() and clear() methods:-**\n",
        "\n",
        "\n",
        "\n",
        "*   The **remove()** method removes the specified item / remove the first occurance of value\n",
        "*   The **clear()** method empties the list. The list still remains, but it has no content.\n",
        "\n",
        "**Note:-**\n",
        "\n",
        "In **pop()** method we need to specify index of the elements which is present in list but in **remove()** method we need to specify elements/value which is present in list."
      ],
      "metadata": {
        "id": "9Kdg97Hsoaqo"
      }
    },
    {
      "cell_type": "code",
      "source": [
        "# remove() method\n",
        "mlst = [60,88,88,52,98,78,88]\n",
        "mlst.remove(88)             # here we pass value\n",
        "print(mlst)\n",
        "\n",
        "# Output --- [60, 88, 52, 98, 78, 88]   It remove first occurance of value  i.e -- 88"
      ],
      "metadata": {
        "colab": {
          "base_uri": "https://localhost:8080/"
        },
        "id": "saqATr9Pn7hG",
        "outputId": "c38a5f52-baff-48d6-84b2-d1983a94fc9a"
      },
      "execution_count": null,
      "outputs": [
        {
          "output_type": "stream",
          "name": "stdout",
          "text": [
            "[60, 88, 52, 98, 78, 88]\n"
          ]
        }
      ]
    },
    {
      "cell_type": "code",
      "source": [
        "# Clear Method\n",
        "\n",
        "mlst.clear()\n",
        "print(mlst)"
      ],
      "metadata": {
        "colab": {
          "base_uri": "https://localhost:8080/"
        },
        "id": "HqimPhjOp6q4",
        "outputId": "65d85087-16a6-4ac9-8ee3-3ce3150151ce"
      },
      "execution_count": null,
      "outputs": [
        {
          "output_type": "stream",
          "name": "stdout",
          "text": [
            "[]\n"
          ]
        }
      ]
    },
    {
      "cell_type": "code",
      "source": [
        "# There is also a functiom called del, which deletes the list\n",
        "mlst = [60,88,88,52,98,78,88]\n",
        "del mlst[0]    # delete/remove first element in list\n",
        "print(mlst)"
      ],
      "metadata": {
        "colab": {
          "base_uri": "https://localhost:8080/"
        },
        "id": "PgcrN31ZqZ9V",
        "outputId": "10a95565-41a6-408e-a802-101e7b208719"
      },
      "execution_count": null,
      "outputs": [
        {
          "output_type": "stream",
          "name": "stdout",
          "text": [
            "[88, 88, 52, 98, 78, 88]\n"
          ]
        }
      ]
    },
    {
      "cell_type": "code",
      "source": [
        "# Delete the entire list\n",
        "del mlst\n",
        "print(mlst)"
      ],
      "metadata": {
        "colab": {
          "base_uri": "https://localhost:8080/",
          "height": 200
        },
        "id": "NXsT76Hsq42X",
        "outputId": "26107227-204c-4fd5-eeac-49651a5827ea"
      },
      "execution_count": null,
      "outputs": [
        {
          "output_type": "error",
          "ename": "NameError",
          "evalue": "ignored",
          "traceback": [
            "\u001b[0;31m---------------------------------------------------------------------------\u001b[0m",
            "\u001b[0;31mNameError\u001b[0m                                 Traceback (most recent call last)",
            "\u001b[0;32m<ipython-input-12-e8df3b8bb9f8>\u001b[0m in \u001b[0;36m<module>\u001b[0;34m\u001b[0m\n\u001b[1;32m      1\u001b[0m \u001b[0;31m# Delete the entire list\u001b[0m\u001b[0;34m\u001b[0m\u001b[0;34m\u001b[0m\u001b[0;34m\u001b[0m\u001b[0m\n\u001b[1;32m      2\u001b[0m \u001b[0;32mdel\u001b[0m \u001b[0mmlst\u001b[0m\u001b[0;34m\u001b[0m\u001b[0;34m\u001b[0m\u001b[0m\n\u001b[0;32m----> 3\u001b[0;31m \u001b[0mprint\u001b[0m\u001b[0;34m(\u001b[0m\u001b[0mmlst\u001b[0m\u001b[0;34m)\u001b[0m\u001b[0;34m\u001b[0m\u001b[0;34m\u001b[0m\u001b[0m\n\u001b[0m",
            "\u001b[0;31mNameError\u001b[0m: name 'mlst' is not defined"
          ]
        }
      ]
    },
    {
      "cell_type": "code",
      "source": [
        "# reverse() -- Reverse the given list\n",
        "mlst = [60,88,88,52,98,78,88]\n",
        "mlst.reverse()\n",
        "print(mlst)"
      ],
      "metadata": {
        "colab": {
          "base_uri": "https://localhost:8080/"
        },
        "id": "PIWKqXlRrCwj",
        "outputId": "446abe2d-4740-468b-c100-d70b4ed7414b"
      },
      "execution_count": null,
      "outputs": [
        {
          "output_type": "stream",
          "name": "stdout",
          "text": [
            "[88, 78, 98, 52, 88, 88, 60]\n"
          ]
        }
      ]
    },
    {
      "cell_type": "markdown",
      "source": [
        "**sort() method:-**\n",
        "\n",
        "1.   sort the list into increasing order\n",
        "\n",
        "\n",
        "2.   If you want to sort list into decreasing order:\n",
        "```\n",
        "list.sort(reverse=True)\n",
        "```\n",
        "\n",
        "\n",
        "\n"
      ],
      "metadata": {
        "id": "OOyihscBreBI"
      }
    },
    {
      "cell_type": "code",
      "source": [
        "mlst = [60,88,88,52,98,78,88]\n",
        "mlst.sort()\n",
        "print(mlst)"
      ],
      "metadata": {
        "colab": {
          "base_uri": "https://localhost:8080/"
        },
        "id": "s36GtP84rbKA",
        "outputId": "a67b60be-7ac3-4467-f025-95cfbe9ad21d"
      },
      "execution_count": null,
      "outputs": [
        {
          "output_type": "stream",
          "name": "stdout",
          "text": [
            "[52, 60, 78, 88, 88, 88, 98]\n"
          ]
        }
      ]
    },
    {
      "cell_type": "code",
      "source": [
        "mlst = [60,88,88,52,98,78,88]\n",
        "mlst.sort(reverse=True)\n",
        "print(mlst)"
      ],
      "metadata": {
        "colab": {
          "base_uri": "https://localhost:8080/"
        },
        "id": "vjqD7yt4sa2x",
        "outputId": "03675b84-8bf1-4750-bb4e-3736012131a3"
      },
      "execution_count": null,
      "outputs": [
        {
          "output_type": "stream",
          "name": "stdout",
          "text": [
            "[98, 88, 88, 88, 78, 60, 52]\n"
          ]
        }
      ]
    },
    {
      "cell_type": "code",
      "source": [
        "# in operator also work with list\n",
        "mlst = [60,88,88,52,98,78,88]\n",
        "print(88 in mlst)\n",
        "print(85 in mlst)"
      ],
      "metadata": {
        "colab": {
          "base_uri": "https://localhost:8080/"
        },
        "id": "WqiyU6jnsgMO",
        "outputId": "1917f0e6-7009-461c-89fd-9e0d2154c4f6"
      },
      "execution_count": null,
      "outputs": [
        {
          "output_type": "stream",
          "name": "stdout",
          "text": [
            "True\n",
            "False\n"
          ]
        }
      ]
    },
    {
      "cell_type": "markdown",
      "source": [
        "**extend() methods:-**\n",
        "\n",
        "\n",
        "\n",
        "*   To append elements from another list to the current list, use the extend() method.\n",
        "*   The elements will be added to the end of the list.\n",
        "\n",
        "\n",
        "*  The extend() method does not have to append lists, you can add any iterable object (tuples, sets, dictionaries etc.)\n",
        "\n",
        "\n",
        "\n"
      ],
      "metadata": {
        "id": "HlBoFXCEtgGC"
      }
    },
    {
      "cell_type": "code",
      "source": [
        "# Add the elements of list2 to list1\n",
        "list1 = [1,2,3,4,5,6]\n",
        "list2 = [7,8,9,10,11,12]\n",
        "list1.extend(list2)\n",
        "print(list1)"
      ],
      "metadata": {
        "colab": {
          "base_uri": "https://localhost:8080/"
        },
        "id": "cTwrqxXGs4PO",
        "outputId": "152e9b5b-1793-4325-81d0-a9a83e38397d"
      },
      "execution_count": null,
      "outputs": [
        {
          "output_type": "stream",
          "name": "stdout",
          "text": [
            "[1, 2, 3, 4, 5, 6, 7, 8, 9, 10, 11, 12]\n"
          ]
        }
      ]
    },
    {
      "cell_type": "code",
      "source": [
        "# Add the elements of tuple1 to list1\n",
        "list1 = [1,2,3,4,5,6]\n",
        "tuple1 = (7,8,9,10,11,12)\n",
        "list1.extend(tuple1)\n",
        "print(list1)"
      ],
      "metadata": {
        "colab": {
          "base_uri": "https://localhost:8080/"
        },
        "id": "B5bui39wutDE",
        "outputId": "96d8ddaa-62f1-4cb1-aac0-51081f0e1a72"
      },
      "execution_count": null,
      "outputs": [
        {
          "output_type": "stream",
          "name": "stdout",
          "text": [
            "[1, 2, 3, 4, 5, 6, 7, 8, 9, 10, 11, 12]\n"
          ]
        }
      ]
    },
    {
      "cell_type": "markdown",
      "source": [
        "**append() vs extend() :-**"
      ],
      "metadata": {
        "id": "JPjTHNf-vDdz"
      }
    },
    {
      "cell_type": "code",
      "source": [
        "# Let's understand what is difference between append() and extend()\n",
        "\n",
        "list1 = [1,2,3,4,5,6]\n",
        "list2 = [7,8,9,10,11,12]\n",
        "print(list1)"
      ],
      "metadata": {
        "colab": {
          "base_uri": "https://localhost:8080/"
        },
        "id": "U0xmsUvru8mR",
        "outputId": "eede36ed-6d47-419d-e07a-ebbb5980d73c"
      },
      "execution_count": null,
      "outputs": [
        {
          "output_type": "stream",
          "name": "stdout",
          "text": [
            "[1, 2, 3, 4, 5, 6]\n"
          ]
        }
      ]
    },
    {
      "cell_type": "code",
      "source": [
        "list1.append(list2)\n",
        "print(list1)\n",
        "\n",
        "# Here Output -- [1, 2, 3, 4, 5, 6, [7, 8, 9, 10, 11, 12]] generated by append() is list inside list"
      ],
      "metadata": {
        "colab": {
          "base_uri": "https://localhost:8080/"
        },
        "id": "mXcLgQJuveIx",
        "outputId": "c7420ccf-7684-47e7-e863-c887218220af"
      },
      "execution_count": null,
      "outputs": [
        {
          "output_type": "stream",
          "name": "stdout",
          "text": [
            "[1, 2, 3, 4, 5, 6, [7, 8, 9, 10, 11, 12]]\n"
          ]
        }
      ]
    },
    {
      "cell_type": "code",
      "source": [
        "list1.extend(list2)\n",
        "print(list1)\n",
        "\n",
        "# Here output-- [1, 2, 3, 4, 5, 6, [7, 8, 9, 10, 11, 12], 7, 8, 9, 10, 11, 12] generated by extend is element of list"
      ],
      "metadata": {
        "colab": {
          "base_uri": "https://localhost:8080/"
        },
        "id": "afsVfp6Nv22f",
        "outputId": "ecff1f27-6bdb-4dc3-ca63-ecf234b5bf61"
      },
      "execution_count": null,
      "outputs": [
        {
          "output_type": "stream",
          "name": "stdout",
          "text": [
            "[1, 2, 3, 4, 5, 6, [7, 8, 9, 10, 11, 12], 7, 8, 9, 10, 11, 12]\n"
          ]
        }
      ]
    },
    {
      "cell_type": "code",
      "source": [
        "# Extend usng + operator\n",
        "# If we add two list i.e list1 + list2, it extended the list\n",
        "list1 = [1,2,3,4,5,6]\n",
        "list2 = [7,8,9,10,11,12]\n",
        "print(list1 + list2)"
      ],
      "metadata": {
        "colab": {
          "base_uri": "https://localhost:8080/"
        },
        "id": "IeU6KtSPwPUI",
        "outputId": "60f54228-788e-4faf-8224-b6b428926c7a"
      },
      "execution_count": null,
      "outputs": [
        {
          "output_type": "stream",
          "name": "stdout",
          "text": [
            "[1, 2, 3, 4, 5, 6, 7, 8, 9, 10, 11, 12]\n"
          ]
        }
      ]
    },
    {
      "cell_type": "markdown",
      "source": [
        "**Hetrogeneous List:-**"
      ],
      "metadata": {
        "id": "nw-kQlMKxC6l"
      }
    },
    {
      "cell_type": "code",
      "source": [
        "my_lst2 = [4,True,98.6,[3,6,9],\"Python\",100]\n",
        "print(type(my_lst2))\n",
        "print(len(my_lst2))"
      ],
      "metadata": {
        "colab": {
          "base_uri": "https://localhost:8080/"
        },
        "id": "LbnkoT10w6-7",
        "outputId": "81125547-6a1a-4666-ff35-4553cc9235b5"
      },
      "execution_count": null,
      "outputs": [
        {
          "output_type": "stream",
          "name": "stdout",
          "text": [
            "<class 'list'>\n",
            "6\n"
          ]
        }
      ]
    },
    {
      "cell_type": "markdown",
      "source": [
        "**Copy A List:-**\n",
        "\n",
        "You cannot copy a list simply by typing list2 = list1, because: list2 will only be a reference to list1, and changes made in list1 will automatically also be made in list2.\n",
        "\n",
        "We use built in method **copy()** to copy a list."
      ],
      "metadata": {
        "id": "5ITt8MHFzM6E"
      }
    },
    {
      "cell_type": "code",
      "source": [
        "# Copy method\n",
        "list1 = [1,2,3,4,5,6]\n",
        "list2 = list1.copy()\n",
        "print(list2)"
      ],
      "metadata": {
        "colab": {
          "base_uri": "https://localhost:8080/"
        },
        "id": "YLCfatuFxj0o",
        "outputId": "6493bce8-35c6-456d-9795-7028b23084b6"
      },
      "execution_count": null,
      "outputs": [
        {
          "output_type": "stream",
          "name": "stdout",
          "text": [
            "[1, 2, 3, 4, 5, 6]\n"
          ]
        }
      ]
    },
    {
      "cell_type": "code",
      "source": [
        "# we can also copy list by\n",
        "list1 = [1,2,3,4,5,6]\n",
        "list2 = list(list1)\n",
        "print(list2)"
      ],
      "metadata": {
        "colab": {
          "base_uri": "https://localhost:8080/"
        },
        "id": "uHsSIrlKz903",
        "outputId": "f4b499dd-a3b1-40d3-c5b8-8496ace0898a"
      },
      "execution_count": null,
      "outputs": [
        {
          "output_type": "stream",
          "name": "stdout",
          "text": [
            "[1, 2, 3, 4, 5, 6]\n"
          ]
        }
      ]
    },
    {
      "cell_type": "markdown",
      "source": [
        "**join**"
      ],
      "metadata": {
        "id": "7QG8cElu0cKW"
      }
    },
    {
      "cell_type": "code",
      "source": [
        "st = \"This content belongs to Ashish Upadhyay\"\n",
        "str_lst= st.split()\n",
        "print(str_lst)"
      ],
      "metadata": {
        "colab": {
          "base_uri": "https://localhost:8080/"
        },
        "id": "Ohln-vsi0Mb0",
        "outputId": "2e6f4372-8722-44ec-c7ff-02cbe2daffd4"
      },
      "execution_count": null,
      "outputs": [
        {
          "output_type": "stream",
          "name": "stdout",
          "text": [
            "['This', 'content', 'belongs', 'to', 'Ashish', 'Upadhyay']\n"
          ]
        }
      ]
    },
    {
      "cell_type": "code",
      "source": [
        "# join all the string with +\n",
        "\"+\".join(str_lst)"
      ],
      "metadata": {
        "colab": {
          "base_uri": "https://localhost:8080/",
          "height": 35
        },
        "id": "zRVVxcJK0681",
        "outputId": "78a65508-77fd-4d83-f4bd-8a7ded95a3f3"
      },
      "execution_count": null,
      "outputs": [
        {
          "output_type": "execute_result",
          "data": {
            "text/plain": [
              "'This+content+belongs+to+Ashish+Upadhyay'"
            ],
            "application/vnd.google.colaboratory.intrinsic+json": {
              "type": "string"
            }
          },
          "metadata": {},
          "execution_count": 29
        }
      ]
    },
    {
      "cell_type": "code",
      "source": [
        "# join all the string with space\n",
        "\" \".join(str_lst)"
      ],
      "metadata": {
        "colab": {
          "base_uri": "https://localhost:8080/",
          "height": 35
        },
        "id": "0JuUF8Zt1Ob7",
        "outputId": "c74daef9-62da-47a6-fa09-9837453e628c"
      },
      "execution_count": null,
      "outputs": [
        {
          "output_type": "execute_result",
          "data": {
            "text/plain": [
              "'This content belongs to Ashish Upadhyay'"
            ],
            "application/vnd.google.colaboratory.intrinsic+json": {
              "type": "string"
            }
          },
          "metadata": {},
          "execution_count": 30
        }
      ]
    },
    {
      "cell_type": "markdown",
      "source": [
        "**List Comprehension:-**"
      ],
      "metadata": {
        "id": "AmNqCrdQ1vqP"
      }
    },
    {
      "cell_type": "code",
      "source": [
        "# Suppose I have a list\n",
        "my_lst = list(range(1,11))\n",
        "print(my_lst)"
      ],
      "metadata": {
        "colab": {
          "base_uri": "https://localhost:8080/"
        },
        "id": "-GZxrK791hoj",
        "outputId": "63ed22e9-4585-4691-c04f-e0a32bf90caf"
      },
      "execution_count": null,
      "outputs": [
        {
          "output_type": "stream",
          "name": "stdout",
          "text": [
            "[1, 2, 3, 4, 5, 6, 7, 8, 9, 10]\n"
          ]
        }
      ]
    },
    {
      "cell_type": "code",
      "source": [
        "# Creating a new list of square of each elements using conventional method\n",
        "\n",
        "new_list = []\n",
        "for ele in my_lst:\n",
        "  new_list.append(ele**2)\n",
        "print(new_list)"
      ],
      "metadata": {
        "colab": {
          "base_uri": "https://localhost:8080/"
        },
        "id": "9R_NtQQA2DGE",
        "outputId": "720d2b38-ce77-46c7-83a8-6f79cf6ccb9a"
      },
      "execution_count": null,
      "outputs": [
        {
          "output_type": "stream",
          "name": "stdout",
          "text": [
            "[1, 4, 9, 16, 25, 36, 49, 64, 81, 100]\n"
          ]
        }
      ]
    },
    {
      "cell_type": "code",
      "source": [
        "# Same problem by using list comprehension\n",
        "\n",
        "new_list = [ele**2 for ele in my_lst]\n",
        "print(new_list)"
      ],
      "metadata": {
        "colab": {
          "base_uri": "https://localhost:8080/"
        },
        "id": "Z0E2KPc72oIa",
        "outputId": "90d12517-8f88-4af2-80f8-9c29b3e9da34"
      },
      "execution_count": null,
      "outputs": [
        {
          "output_type": "stream",
          "name": "stdout",
          "text": [
            "[1, 4, 9, 16, 25, 36, 49, 64, 81, 100]\n"
          ]
        }
      ]
    },
    {
      "cell_type": "code",
      "source": [
        "# Creating a new list of squares of only even elements\n",
        "my_lst = list(range(1,11))\n",
        "new_list = []\n",
        "for ele in my_lst:\n",
        "  if(ele % 2 ==0):\n",
        "    new_list.append(ele**2)\n",
        "print(new_list)"
      ],
      "metadata": {
        "colab": {
          "base_uri": "https://localhost:8080/"
        },
        "id": "ELp660o23Dmg",
        "outputId": "4fb08cb7-44a8-4531-ef21-a02c61b2d355"
      },
      "execution_count": null,
      "outputs": [
        {
          "output_type": "stream",
          "name": "stdout",
          "text": [
            "[4, 16, 36, 64, 100]\n"
          ]
        }
      ]
    },
    {
      "cell_type": "code",
      "source": [
        "# By Using List Comprehension:\n",
        "new_list2 = [ele**2 for ele in my_lst if ele%2 ==0]\n",
        "print(new_list2)"
      ],
      "metadata": {
        "colab": {
          "base_uri": "https://localhost:8080/"
        },
        "id": "nMCBrMS14QSJ",
        "outputId": "0d6f85b6-3200-40a2-a445-a46c419b966e"
      },
      "execution_count": null,
      "outputs": [
        {
          "output_type": "stream",
          "name": "stdout",
          "text": [
            "[4, 16, 36, 64, 100]\n"
          ]
        }
      ]
    },
    {
      "cell_type": "code",
      "source": [
        "# Create a new list by using my_list where square of only even element and cube of odd elements:\n",
        "\n",
        "my_lst = list(range(1,11))\n",
        "new_list = []\n",
        "for ele in my_lst:\n",
        "  if(ele % 2 ==0):\n",
        "    new_list.append(ele**2)\n",
        "  else:\n",
        "    new_list.append(ele**3)\n",
        "print(new_list)"
      ],
      "metadata": {
        "colab": {
          "base_uri": "https://localhost:8080/"
        },
        "id": "EKY7PPK44_ie",
        "outputId": "2434218f-b5fa-4c2c-c5be-1b8c10ecbd80"
      },
      "execution_count": null,
      "outputs": [
        {
          "output_type": "stream",
          "name": "stdout",
          "text": [
            "[1, 4, 27, 16, 125, 36, 343, 64, 729, 100]\n"
          ]
        }
      ]
    },
    {
      "cell_type": "code",
      "source": [
        "# By using list comprehension:\n",
        "\n",
        "new_list = [ele**2 if ele%2==0 else ele**3 for ele in my_lst]\n",
        "print(new_list)"
      ],
      "metadata": {
        "colab": {
          "base_uri": "https://localhost:8080/"
        },
        "id": "7qSs9NJt59nb",
        "outputId": "71f7921a-82e5-4ffd-ebc0-86b9135c0beb"
      },
      "execution_count": null,
      "outputs": [
        {
          "output_type": "stream",
          "name": "stdout",
          "text": [
            "[1, 4, 27, 16, 125, 36, 343, 64, 729, 100]\n"
          ]
        }
      ]
    },
    {
      "cell_type": "markdown",
      "source": [
        "**Summery of List Comprehension:-**\n",
        "\n",
        "---\n",
        "\n",
        "*   **Only For Loop:-**\n",
        "```\n",
        "NewList = [ expression(element) for element in oldList ] \n",
        "```\n",
        "\n",
        "\n",
        "*   **if condition:-**\n",
        "```\n",
        "NewList = [ expression(element) for element in oldList if condition ] \n",
        "```\n",
        "\n",
        "\n",
        "*    **if-else condition:-**\n",
        "```\n",
        "NewList = [ expression1(element) if condition else  expression1(element) for element in oldList] \n",
        "```\n",
        "\n",
        "\n",
        "\n",
        "\n",
        "\n",
        "\n"
      ],
      "metadata": {
        "id": "-zedAkKa6gCt"
      }
    },
    {
      "cell_type": "markdown",
      "source": [
        "**2-D List:-**![WhatsApp Image 2023-03-06 at 6.20.55 PM.jpeg](data:image/jpeg;base64,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)"
      ],
      "metadata": {
        "id": "bCZyQhqaD3uU"
      }
    },
    {
      "cell_type": "code",
      "source": [
        "list_2d = [[1,2,3],[4,5,6],[7,8,9],[10,11,12]]\n",
        "print(list_2d)"
      ],
      "metadata": {
        "id": "_blc6MYF6bxd",
        "colab": {
          "base_uri": "https://localhost:8080/"
        },
        "outputId": "3c743b9a-0c33-4ac0-b1f0-1e47508bda72"
      },
      "execution_count": null,
      "outputs": [
        {
          "output_type": "stream",
          "name": "stdout",
          "text": [
            "[[1, 2, 3], [4, 5, 6], [7, 8, 9], [10, 11, 12]]\n"
          ]
        }
      ]
    },
    {
      "cell_type": "code",
      "source": [
        "# If i want to access value 9\n",
        "print(list_2d[2][2])"
      ],
      "metadata": {
        "colab": {
          "base_uri": "https://localhost:8080/"
        },
        "id": "AqxXdSM8EcJu",
        "outputId": "608f8e93-b622-4ffa-c0d8-aa7d7f6def76"
      },
      "execution_count": null,
      "outputs": [
        {
          "output_type": "stream",
          "name": "stdout",
          "text": [
            "9\n"
          ]
        }
      ]
    },
    {
      "cell_type": "code",
      "source": [
        "# OR\n",
        "print(list_2d[-2][-1])"
      ],
      "metadata": {
        "colab": {
          "base_uri": "https://localhost:8080/"
        },
        "id": "O1u6JW8tEsXC",
        "outputId": "2ea22f6d-fba7-4972-90c2-659a9dec1941"
      },
      "execution_count": null,
      "outputs": [
        {
          "output_type": "stream",
          "name": "stdout",
          "text": [
            "9\n"
          ]
        }
      ]
    },
    {
      "cell_type": "code",
      "source": [
        "# Note\n",
        "\n",
        "c = [[None,None],[None,None]]\n",
        "# shortcut to create the above list\n",
        "c = [[None]*2]*2"
      ],
      "metadata": {
        "id": "du9c-c2EE1V6"
      },
      "execution_count": null,
      "outputs": []
    },
    {
      "cell_type": "markdown",
      "source": [
        "**Tupels:-**\n",
        "\n",
        "\n",
        "\n",
        "*   similar to lists(but read only)\n",
        "*   ordered, collections of items\n",
        "\n",
        "*   indexable\n",
        "*   immutable\n",
        "\n",
        "\n",
        "\n"
      ],
      "metadata": {
        "id": "4CJJ97kfUVNg"
      }
    },
    {
      "cell_type": "code",
      "source": [
        "# Creating an empty tuple\n",
        "t = ()    # or t= tupple()\n",
        "print(type(t))"
      ],
      "metadata": {
        "colab": {
          "base_uri": "https://localhost:8080/"
        },
        "id": "1lzZhQZoFPze",
        "outputId": "bdd77875-511e-49b2-9730-5190454d709d"
      },
      "execution_count": null,
      "outputs": [
        {
          "output_type": "stream",
          "name": "stdout",
          "text": [
            "<class 'tuple'>\n"
          ]
        }
      ]
    },
    {
      "cell_type": "code",
      "source": [
        "# Creating tuple with element\n",
        "tup = (8,9,'Hello',88)\n",
        "print(tup)\n",
        "print(type(tup))"
      ],
      "metadata": {
        "colab": {
          "base_uri": "https://localhost:8080/"
        },
        "id": "Uzg9_RG4U8m3",
        "outputId": "9c272b7c-6206-465b-f6f2-179b699bd69a"
      },
      "execution_count": null,
      "outputs": [
        {
          "output_type": "stream",
          "name": "stdout",
          "text": [
            "(8, 9, 'Hello', 88)\n",
            "<class 'tuple'>\n"
          ]
        }
      ]
    },
    {
      "cell_type": "code",
      "source": [
        "# Note: If you want to create tuple for only one element like this\n",
        "t = (\"mohit\")\n",
        "print(type(t))   # it gives output as string\n",
        "\n",
        "#* for one element parenthesis is not enough, comma is mandatory. For example:\n",
        "\n",
        "t = (\"mohit\",)\n",
        "print(type(t)) \n",
        "\n",
        "#    or\n",
        "\n",
        "t = \"mohit\",\n",
        "print(type(t)) "
      ],
      "metadata": {
        "colab": {
          "base_uri": "https://localhost:8080/"
        },
        "id": "NScpXqBeVV36",
        "outputId": "988032af-1588-45ff-bef3-936895f2380f"
      },
      "execution_count": null,
      "outputs": [
        {
          "output_type": "stream",
          "name": "stdout",
          "text": [
            "<class 'str'>\n",
            "<class 'tuple'>\n",
            "<class 'tuple'>\n"
          ]
        }
      ]
    },
    {
      "cell_type": "code",
      "source": [
        "# Access elements in tuples\n",
        "tup = (8,9,'Hello',88)\n",
        "print(tup[0])\n",
        "print(tup[-1])\n",
        "\n",
        "# get all the elements except the last one\n",
        "\n",
        "print(tup[:-1])\n",
        "\n",
        "# get all the elements \n",
        "\n",
        "print(tup[:])"
      ],
      "metadata": {
        "colab": {
          "base_uri": "https://localhost:8080/"
        },
        "id": "BfO6a55cVsgQ",
        "outputId": "d2134436-c2e0-4662-afbc-2738cf470e85"
      },
      "execution_count": null,
      "outputs": [
        {
          "output_type": "stream",
          "name": "stdout",
          "text": [
            "8\n",
            "88\n",
            "(8, 9, 'Hello')\n",
            "(8, 9, 'Hello', 88)\n"
          ]
        }
      ]
    },
    {
      "cell_type": "code",
      "source": [
        "lst = ['mohit','prateek','rohit']\n",
        "tup = (20,30,lst,(1,2,3),104.0)\n",
        "print(tup)"
      ],
      "metadata": {
        "colab": {
          "base_uri": "https://localhost:8080/"
        },
        "id": "pwT6JPKiW-an",
        "outputId": "3f486fca-52ca-46b3-8e34-0793da7de7e9"
      },
      "execution_count": null,
      "outputs": [
        {
          "output_type": "stream",
          "name": "stdout",
          "text": [
            "(20, 30, ['mohit', 'prateek', 'rohit'], (1, 2, 3), 104.0)\n"
          ]
        }
      ]
    },
    {
      "cell_type": "code",
      "source": [
        "# Now\n",
        "tup[2][2] = 'Jatin'\n",
        "print(tup)     # Here we are not changing the tuple, we are changing the list but it looks like we are changing a tuple"
      ],
      "metadata": {
        "colab": {
          "base_uri": "https://localhost:8080/"
        },
        "id": "NZLamfW4XeTv",
        "outputId": "bf3906c7-ffcd-419d-9df3-aa5d9e299a76"
      },
      "execution_count": null,
      "outputs": [
        {
          "output_type": "stream",
          "name": "stdout",
          "text": [
            "(20, 30, ['mohit', 'prateek', 'Jatin'], (1, 2, 3), 104.0)\n"
          ]
        }
      ]
    },
    {
      "cell_type": "code",
      "source": [
        "# Tuple Unpacking\n",
        "t = (4,2,1)\n",
        "a = t[0]\n",
        "b = t[1]\n",
        "c = t[2]\n",
        "print(a,b,c)"
      ],
      "metadata": {
        "colab": {
          "base_uri": "https://localhost:8080/"
        },
        "id": "TtfcFNO6XpQY",
        "outputId": "d47cc37d-fede-4aa6-db59-c2c61faaa9ef"
      },
      "execution_count": null,
      "outputs": [
        {
          "output_type": "stream",
          "name": "stdout",
          "text": [
            "4 2 1\n"
          ]
        }
      ]
    },
    {
      "cell_type": "code",
      "source": [
        "a,b,c = t\n",
        "print(a,b,c)"
      ],
      "metadata": {
        "colab": {
          "base_uri": "https://localhost:8080/"
        },
        "id": "OVHZio-oYmYr",
        "outputId": "c5e8243b-8ca9-4f55-f659-aaf16264ed66"
      },
      "execution_count": null,
      "outputs": [
        {
          "output_type": "stream",
          "name": "stdout",
          "text": [
            "4 2 1\n"
          ]
        }
      ]
    },
    {
      "cell_type": "code",
      "source": [
        "print(*t)"
      ],
      "metadata": {
        "colab": {
          "base_uri": "https://localhost:8080/"
        },
        "id": "28b125d6Yt-L",
        "outputId": "da8f1480-cab0-4210-d9e0-4bc01a343d76"
      },
      "execution_count": null,
      "outputs": [
        {
          "output_type": "stream",
          "name": "stdout",
          "text": [
            "4 2 1\n"
          ]
        }
      ]
    },
    {
      "cell_type": "markdown",
      "source": [
        "**Set:-**\n",
        "\n",
        "\n",
        "*   contains only unique elements\n",
        "*   mutable\n",
        "*   unordered\n",
        "*   non-indexable\n",
        "\n",
        "\n",
        "\n",
        "\n",
        "\n"
      ],
      "metadata": {
        "id": "Mra-cyxpZOly"
      }
    },
    {
      "cell_type": "code",
      "source": [
        "# create empty set\n",
        "s = set()\n",
        "type(s)"
      ],
      "metadata": {
        "colab": {
          "base_uri": "https://localhost:8080/"
        },
        "id": "ZxLUqCPMYz-7",
        "outputId": "aefd9b7c-ee42-4a6f-f432-19f96a8ecc60"
      },
      "execution_count": null,
      "outputs": [
        {
          "output_type": "execute_result",
          "data": {
            "text/plain": [
              "set"
            ]
          },
          "metadata": {},
          "execution_count": 12
        }
      ]
    },
    {
      "cell_type": "code",
      "source": [
        "# create set with some elements in set\n",
        "my_set = {9,7,7,8,5,8,6,4,2,1,3,4,6,22,}\n",
        "print(my_set)"
      ],
      "metadata": {
        "colab": {
          "base_uri": "https://localhost:8080/"
        },
        "id": "4vrp5SRAaTtQ",
        "outputId": "4971eac6-c9f3-4cec-fed0-66062d5f9ab6"
      },
      "execution_count": null,
      "outputs": [
        {
          "output_type": "stream",
          "name": "stdout",
          "text": [
            "{1, 2, 3, 4, 5, 6, 7, 8, 9, 22}\n"
          ]
        }
      ]
    },
    {
      "cell_type": "code",
      "source": [
        "# Some methods \n",
        "# add()\n",
        "# remove()\n",
        "# update()\n",
        "# discord()  --- If the element is not present in set it will do nothing\n"
      ],
      "metadata": {
        "id": "7pEecVpKalQV"
      },
      "execution_count": null,
      "outputs": []
    },
    {
      "cell_type": "markdown",
      "source": [
        "**Set Operations:-**\n",
        "\n",
        "*   set union\n",
        "*   set intersection\n",
        "*  set difference\n",
        "*   symmetric difference\n",
        "\n",
        "\n",
        "\n"
      ],
      "metadata": {
        "id": "yn2BYzGdLLW6"
      }
    },
    {
      "cell_type": "code",
      "source": [
        "s1 = {1,2,3,4,5,8}\n",
        "s2 = {4,5,6,7,1,9}"
      ],
      "metadata": {
        "id": "DigTIqB8Ljj6"
      },
      "execution_count": null,
      "outputs": []
    },
    {
      "cell_type": "code",
      "source": [
        "#union\n",
        "s1.union(s2)    # we can also write s1 | s2"
      ],
      "metadata": {
        "colab": {
          "base_uri": "https://localhost:8080/"
        },
        "id": "ws5Tzbb1L5RZ",
        "outputId": "fe143a6b-2980-4cff-e96b-c771fcc75373"
      },
      "execution_count": null,
      "outputs": [
        {
          "output_type": "execute_result",
          "data": {
            "text/plain": [
              "{1, 2, 3, 4, 5, 6, 7, 8, 9}"
            ]
          },
          "metadata": {},
          "execution_count": 2
        }
      ]
    },
    {
      "cell_type": "code",
      "source": [
        "# intersection\n",
        "s1.intersection(s2)  # we can also write s1 & s2"
      ],
      "metadata": {
        "colab": {
          "base_uri": "https://localhost:8080/"
        },
        "id": "RRAqFBN5MGmx",
        "outputId": "099c9e31-7280-4014-f21a-a593b131b9e8"
      },
      "execution_count": null,
      "outputs": [
        {
          "output_type": "execute_result",
          "data": {
            "text/plain": [
              "{1, 4, 5}"
            ]
          },
          "metadata": {},
          "execution_count": 3
        }
      ]
    },
    {
      "cell_type": "code",
      "source": [
        "# difference\n",
        "s1.difference(s2)   # we can also write s1 - s2"
      ],
      "metadata": {
        "colab": {
          "base_uri": "https://localhost:8080/"
        },
        "id": "4IUloX-ZNAOf",
        "outputId": "df87b1ef-f9c4-40e2-ffec-3c31085ae3ab"
      },
      "execution_count": null,
      "outputs": [
        {
          "output_type": "execute_result",
          "data": {
            "text/plain": [
              "{2, 3, 8}"
            ]
          },
          "metadata": {},
          "execution_count": 4
        }
      ]
    },
    {
      "cell_type": "code",
      "source": [
        "# symmetric difference: elements that are in exactly one set\n",
        "s1.symmetric_difference(s2)       # we can also write (s1 | s2) - (s1 & s2)"
      ],
      "metadata": {
        "colab": {
          "base_uri": "https://localhost:8080/"
        },
        "id": "v3U_NFGxNlTw",
        "outputId": "a83d8675-37d5-4b3d-f1a9-3a70d27bdef1"
      },
      "execution_count": null,
      "outputs": [
        {
          "output_type": "execute_result",
          "data": {
            "text/plain": [
              "{2, 3, 6, 7, 8, 9}"
            ]
          },
          "metadata": {},
          "execution_count": 5
        }
      ]
    },
    {
      "cell_type": "markdown",
      "source": [
        "**Dictionary:-**\n",
        "\n",
        "\n",
        "*   store data in key-value pair \n",
        "*   unordered\n",
        "*   unindexible\n",
        "*   access the values, with help of keys\n",
        "\n",
        "\n",
        "\n"
      ],
      "metadata": {
        "id": "Kv898BKePmmp"
      }
    },
    {
      "cell_type": "code",
      "source": [
        "# Creating an empty dictionary\n",
        "dic = {} # or dic = dict()"
      ],
      "metadata": {
        "id": "cilki6l5QXnG"
      },
      "execution_count": null,
      "outputs": []
    },
    {
      "cell_type": "code",
      "source": [
        "# create a dictionary with list of tuples:\n",
        "my_dic = dict([(1,'abc'),(2,\"xyz\")])\n",
        "print(my_dic)"
      ],
      "metadata": {
        "colab": {
          "base_uri": "https://localhost:8080/"
        },
        "id": "PPkcNv4tOSd7",
        "outputId": "9fd7a591-b07a-4922-be02-8fa429e4d68c"
      },
      "execution_count": null,
      "outputs": [
        {
          "output_type": "stream",
          "name": "stdout",
          "text": [
            "{1: 'abc', 2: 'xyz'}\n"
          ]
        }
      ]
    },
    {
      "cell_type": "code",
      "source": [
        "# create a dictionary to store user information\n",
        "user_info = {\n",
        "    \"name\":\"mohit\",\n",
        "    \"age\":24,\n",
        "    \"nationality\":\"indian\"\n",
        "}\n",
        "print(user_info)"
      ],
      "metadata": {
        "colab": {
          "base_uri": "https://localhost:8080/"
        },
        "id": "c_dAsoAwR0W_",
        "outputId": "5b74b96b-8202-437a-ab15-38c4667d4aa4"
      },
      "execution_count": null,
      "outputs": [
        {
          "output_type": "stream",
          "name": "stdout",
          "text": [
            "{'name': 'mohit', 'age': 24, 'nationality': 'indian'}\n"
          ]
        }
      ]
    },
    {
      "cell_type": "code",
      "source": [
        "# accessing the elements of dict:\n",
        "print(user_info['name'])"
      ],
      "metadata": {
        "colab": {
          "base_uri": "https://localhost:8080/"
        },
        "id": "sF2hUhu_Sbgd",
        "outputId": "128ccb4f-d843-4fd4-dd3f-5e7e4725b0ea"
      },
      "execution_count": null,
      "outputs": [
        {
          "output_type": "stream",
          "name": "stdout",
          "text": [
            "mohit\n"
          ]
        }
      ]
    },
    {
      "cell_type": "code",
      "source": [
        "print(user_info['nationality'])"
      ],
      "metadata": {
        "colab": {
          "base_uri": "https://localhost:8080/"
        },
        "id": "Yh0RdC_TSuY5",
        "outputId": "76d53d7d-c7cb-40f9-d47b-3b1cebb24f2b"
      },
      "execution_count": null,
      "outputs": [
        {
          "output_type": "stream",
          "name": "stdout",
          "text": [
            "indian\n"
          ]
        }
      ]
    },
    {
      "cell_type": "code",
      "source": [
        "# unknown key gives error\n",
        "print(user_info['hobby'])"
      ],
      "metadata": {
        "colab": {
          "base_uri": "https://localhost:8080/",
          "height": 183
        },
        "id": "iIIKVxrOS0hy",
        "outputId": "45f0364f-e199-49c8-96d1-9145d4679191"
      },
      "execution_count": null,
      "outputs": [
        {
          "output_type": "error",
          "ename": "KeyError",
          "evalue": "ignored",
          "traceback": [
            "\u001b[0;31m---------------------------------------------------------------------------\u001b[0m",
            "\u001b[0;31mKeyError\u001b[0m                                  Traceback (most recent call last)",
            "\u001b[0;32m<ipython-input-10-b5da1c432d1b>\u001b[0m in \u001b[0;36m<module>\u001b[0;34m\u001b[0m\n\u001b[1;32m      1\u001b[0m \u001b[0;31m# unknown key gives error\u001b[0m\u001b[0;34m\u001b[0m\u001b[0;34m\u001b[0m\u001b[0m\n\u001b[0;32m----> 2\u001b[0;31m \u001b[0mprint\u001b[0m\u001b[0;34m(\u001b[0m\u001b[0muser_info\u001b[0m\u001b[0;34m[\u001b[0m\u001b[0;34m'hobby'\u001b[0m\u001b[0;34m]\u001b[0m\u001b[0;34m)\u001b[0m\u001b[0;34m\u001b[0m\u001b[0;34m\u001b[0m\u001b[0m\n\u001b[0m",
            "\u001b[0;31mKeyError\u001b[0m: 'hobby'"
          ]
        }
      ]
    },
    {
      "cell_type": "code",
      "source": [
        "# To avoid key error, use dict.get()\n",
        "user_info.get('name')"
      ],
      "metadata": {
        "colab": {
          "base_uri": "https://localhost:8080/",
          "height": 35
        },
        "id": "eTl2BDXpS9-5",
        "outputId": "a9cc38f4-2386-4ca9-a8af-3b976ab17c0d"
      },
      "execution_count": null,
      "outputs": [
        {
          "output_type": "execute_result",
          "data": {
            "text/plain": [
              "'mohit'"
            ],
            "application/vnd.google.colaboratory.intrinsic+json": {
              "type": "string"
            }
          },
          "metadata": {},
          "execution_count": 11
        }
      ]
    },
    {
      "cell_type": "code",
      "source": [
        "user_info.get('hobby')   # no output because key \"hobby\" is not present in dictionary user_info"
      ],
      "metadata": {
        "id": "zDbKVkcWTOpN"
      },
      "execution_count": null,
      "outputs": []
    },
    {
      "cell_type": "markdown",
      "source": [
        "**Add / Modify data in Dictionary:-**"
      ],
      "metadata": {
        "id": "BvQl8pAETjms"
      }
    },
    {
      "cell_type": "code",
      "source": [
        "print(user_info)"
      ],
      "metadata": {
        "colab": {
          "base_uri": "https://localhost:8080/"
        },
        "id": "ykc-HuszTTiJ",
        "outputId": "2c53d056-fa22-4d9b-958a-bd236188afb1"
      },
      "execution_count": null,
      "outputs": [
        {
          "output_type": "stream",
          "name": "stdout",
          "text": [
            "{'name': 'mohit', 'age': 24, 'nationality': 'indian'}\n"
          ]
        }
      ]
    },
    {
      "cell_type": "code",
      "source": [
        "# adding new key\n",
        "\n",
        "user_info['hobby'] = ['Singing','Cricket','Coding']\n",
        "print(user_info)"
      ],
      "metadata": {
        "colab": {
          "base_uri": "https://localhost:8080/"
        },
        "id": "6gud2NfpT2Eh",
        "outputId": "6da71889-75fb-449c-cd21-3ba7184e5e65"
      },
      "execution_count": null,
      "outputs": [
        {
          "output_type": "stream",
          "name": "stdout",
          "text": [
            "{'name': 'mohit', 'age': 24, 'nationality': 'indian', 'hobby': ['Singing', 'Cricket', 'Coding']}\n"
          ]
        }
      ]
    },
    {
      "cell_type": "code",
      "source": [
        "print(user_info['hobby'])"
      ],
      "metadata": {
        "colab": {
          "base_uri": "https://localhost:8080/"
        },
        "id": "ICHixG72UJKN",
        "outputId": "d341fa21-ec77-48b6-b89c-5e7882a93e63"
      },
      "execution_count": null,
      "outputs": [
        {
          "output_type": "stream",
          "name": "stdout",
          "text": [
            "['Singing', 'Cricket', 'Coding']\n"
          ]
        }
      ]
    },
    {
      "cell_type": "code",
      "source": [
        "# modifying the element\n",
        "\n",
        "user_info['name'] = 'Jatin'\n",
        "print(user_info)"
      ],
      "metadata": {
        "id": "ff1CZTdLUR95",
        "colab": {
          "base_uri": "https://localhost:8080/"
        },
        "outputId": "1bab4530-30a2-47bc-d9e3-0d237316d810"
      },
      "execution_count": null,
      "outputs": [
        {
          "output_type": "stream",
          "name": "stdout",
          "text": [
            "{'name': 'Jatin', 'age': 24, 'nationality': 'indian', 'hobby': ['Singing', 'Cricket', 'Coding']}\n"
          ]
        }
      ]
    },
    {
      "cell_type": "code",
      "source": [
        "user_info['hobby'][1] = 'Cooking'\n",
        "print(user_info)"
      ],
      "metadata": {
        "colab": {
          "base_uri": "https://localhost:8080/"
        },
        "id": "Wx9SzYUqYdm9",
        "outputId": "a6a903af-edfb-4afc-ff06-2e8fdfea85da"
      },
      "execution_count": null,
      "outputs": [
        {
          "output_type": "stream",
          "name": "stdout",
          "text": [
            "{'name': 'Jatin', 'age': 24, 'nationality': 'indian', 'hobby': ['Singing', 'Cooking', 'Coding']}\n"
          ]
        }
      ]
    },
    {
      "cell_type": "markdown",
      "source": [
        "**Dictionary Functions:-**"
      ],
      "metadata": {
        "id": "TXEeY6k_YtDu"
      }
    },
    {
      "cell_type": "code",
      "source": [
        "# Display all keys\n",
        "\n",
        "print(user_info.keys())"
      ],
      "metadata": {
        "colab": {
          "base_uri": "https://localhost:8080/"
        },
        "id": "trmEnlQcYp5L",
        "outputId": "3c6c8047-ffab-43dd-b230-83878a7f5ebf"
      },
      "execution_count": null,
      "outputs": [
        {
          "output_type": "stream",
          "name": "stdout",
          "text": [
            "dict_keys(['name', 'age', 'nationality', 'hobby'])\n"
          ]
        }
      ]
    },
    {
      "cell_type": "code",
      "source": [
        "print(list(user_info.keys()))"
      ],
      "metadata": {
        "colab": {
          "base_uri": "https://localhost:8080/"
        },
        "id": "61PkC19KZBoo",
        "outputId": "4dec4918-6bfe-42b9-c096-eb3415ebd8b5"
      },
      "execution_count": null,
      "outputs": [
        {
          "output_type": "stream",
          "name": "stdout",
          "text": [
            "['name', 'age', 'nationality', 'hobby']\n"
          ]
        }
      ]
    },
    {
      "cell_type": "code",
      "source": [
        "# Display all values\n",
        "\n",
        "print(list(user_info.values()))"
      ],
      "metadata": {
        "colab": {
          "base_uri": "https://localhost:8080/"
        },
        "id": "5dWcPqzxZJlj",
        "outputId": "8642f076-7fdc-42f0-f1a6-aeb87011a31e"
      },
      "execution_count": null,
      "outputs": [
        {
          "output_type": "stream",
          "name": "stdout",
          "text": [
            "['Jatin', 24, 'indian', ['Singing', 'Cooking', 'Coding']]\n"
          ]
        }
      ]
    },
    {
      "cell_type": "code",
      "source": [
        "# Display (key,value) pair in tuples\n",
        "\n",
        "user_info.items()"
      ],
      "metadata": {
        "colab": {
          "base_uri": "https://localhost:8080/"
        },
        "id": "5gs4djfRZUdf",
        "outputId": "869104a2-acf5-4221-92fd-0db022833796"
      },
      "execution_count": null,
      "outputs": [
        {
          "output_type": "execute_result",
          "data": {
            "text/plain": [
              "dict_items([('name', 'Jatin'), ('age', 24), ('nationality', 'indian'), ('hobby', ['Singing', 'Cooking', 'Coding'])])"
            ]
          },
          "metadata": {},
          "execution_count": 21
        }
      ]
    },
    {
      "cell_type": "code",
      "source": [
        "# Display (key,value) pair in list\n",
        "\n",
        "print(list(user_info.items()))"
      ],
      "metadata": {
        "colab": {
          "base_uri": "https://localhost:8080/"
        },
        "id": "SEAuAJuBZk1-",
        "outputId": "1fd220bc-d71f-4926-da01-a37f381f85e1"
      },
      "execution_count": null,
      "outputs": [
        {
          "output_type": "stream",
          "name": "stdout",
          "text": [
            "[('name', 'Jatin'), ('age', 24), ('nationality', 'indian'), ('hobby', ['Singing', 'Cooking', 'Coding'])]\n"
          ]
        }
      ]
    },
    {
      "cell_type": "code",
      "source": [
        "# iterating the above list using for loops:\n",
        "\n",
        "for key,val in user_info.items():\n",
        "  print(key,\":\",val)"
      ],
      "metadata": {
        "colab": {
          "base_uri": "https://localhost:8080/"
        },
        "id": "JbtDS_lJZwlx",
        "outputId": "f4226c36-2a1c-44e3-97b5-90d1dba575e4"
      },
      "execution_count": null,
      "outputs": [
        {
          "output_type": "stream",
          "name": "stdout",
          "text": [
            "name : Jatin\n",
            "age : 24\n",
            "nationality : indian\n",
            "hobby : ['Singing', 'Cooking', 'Coding']\n"
          ]
        }
      ]
    },
    {
      "cell_type": "code",
      "source": [
        "# Note: \n",
        "for ele in user_info:\n",
        "  print(ele)   # by default it will print keys i.e for ele in user_info.keys():\n",
        "                #                                    print(ele)   \n",
        "                #       gives same output "
      ],
      "metadata": {
        "colab": {
          "base_uri": "https://localhost:8080/"
        },
        "id": "geImMDw3aJyU",
        "outputId": "f277586f-3e6a-45ef-8d82-be9655eabf6f"
      },
      "execution_count": null,
      "outputs": [
        {
          "output_type": "stream",
          "name": "stdout",
          "text": [
            "name\n",
            "age\n",
            "nationality\n",
            "hobby\n"
          ]
        }
      ]
    },
    {
      "cell_type": "code",
      "source": [
        "# Note: 2\n",
        "for ele in user_info:\n",
        "  print(user_info[ele])       # it print values\n"
      ],
      "metadata": {
        "colab": {
          "base_uri": "https://localhost:8080/"
        },
        "id": "Bx-VTVL3aXMW",
        "outputId": "da2f9efb-05c5-48f0-c0fa-767d05df1053"
      },
      "execution_count": null,
      "outputs": [
        {
          "output_type": "stream",
          "name": "stdout",
          "text": [
            "Jatin\n",
            "24\n",
            "indian\n",
            "['Singing', 'Cooking', 'Coding']\n"
          ]
        }
      ]
    },
    {
      "cell_type": "code",
      "source": [
        "# Note 3: \n",
        "for ele in user_info:\n",
        "  print(ele,\" : \",user_info[ele])"
      ],
      "metadata": {
        "colab": {
          "base_uri": "https://localhost:8080/"
        },
        "id": "vt4TTjXJbGVA",
        "outputId": "ee868cf7-11e8-4e3c-c2dc-07679012aef0"
      },
      "execution_count": null,
      "outputs": [
        {
          "output_type": "stream",
          "name": "stdout",
          "text": [
            "name  :  Jatin\n",
            "age  :  24\n",
            "nationality  :  indian\n",
            "hobby  :  ['Singing', 'Cooking', 'Coding']\n"
          ]
        }
      ]
    },
    {
      "cell_type": "markdown",
      "source": [
        "**Rules for creating Dictionary:-**\n",
        "\n",
        "**Keys:-** Immutable  like int,string,tuple ...... list,set,dictionary not allowed for keys\n",
        "\n",
        "**Values:-** There is no ule for values store anything like  [int,list,tuple,dict,string,boolean,etc]"
      ],
      "metadata": {
        "id": "tc8ffQX1bfEi"
      }
    },
    {
      "cell_type": "markdown",
      "source": [
        "**Nested Dictionary:-**"
      ],
      "metadata": {
        "id": "mSn_7c3acbu6"
      }
    },
    {
      "cell_type": "markdown",
      "source": [
        "Suppose I have to create a menue for a canteen where item and value like:\n",
        "\n",
        "samosa   10\n",
        "\n",
        "pizza   100\n",
        "\n",
        "burger  50\n",
        "\n",
        "fruits:\n",
        "\n",
        "apple  45\n",
        "\n",
        "grapes 35\n",
        "\n",
        "mango  30"
      ],
      "metadata": {
        "id": "XXcQyibGckCC"
      }
    },
    {
      "cell_type": "code",
      "source": [
        "canteen_menue = {\n",
        "    'samosa':10,\n",
        "    'pizza':100,\n",
        "    'burger':50,\n",
        "    'fruits':{\n",
        "        'apple':45,\n",
        "        'grapes':35,\n",
        "        'mango':30\n",
        "    }\n",
        "\n",
        "}"
      ],
      "metadata": {
        "id": "41opGWV9bXak"
      },
      "execution_count": null,
      "outputs": []
    },
    {
      "cell_type": "code",
      "source": [
        "print(canteen_menue)"
      ],
      "metadata": {
        "colab": {
          "base_uri": "https://localhost:8080/"
        },
        "id": "t5cBvIlvfhA8",
        "outputId": "a944365c-c3ee-4c99-fe79-db440cea46b9"
      },
      "execution_count": null,
      "outputs": [
        {
          "output_type": "stream",
          "name": "stdout",
          "text": [
            "{'samosa': 10, 'pizza': 100, 'burger': 50, 'fruits': {'apple': 45, 'grapes': 35, 'mango': 30}}\n"
          ]
        }
      ]
    },
    {
      "cell_type": "code",
      "source": [
        "print(canteen_menue['fruits'])"
      ],
      "metadata": {
        "colab": {
          "base_uri": "https://localhost:8080/"
        },
        "id": "p_RU-2lMfnvu",
        "outputId": "2e15ae9f-1466-4437-8a0e-6289feb0ffda"
      },
      "execution_count": null,
      "outputs": [
        {
          "output_type": "stream",
          "name": "stdout",
          "text": [
            "{'apple': 45, 'grapes': 35, 'mango': 30}\n"
          ]
        }
      ]
    },
    {
      "cell_type": "code",
      "source": [
        "# 2 level of accessing key\n",
        "print(canteen_menue['fruits']['mango'])"
      ],
      "metadata": {
        "colab": {
          "base_uri": "https://localhost:8080/"
        },
        "id": "7WDEoHN5ftwa",
        "outputId": "2f67aa26-0240-4044-b016-fc205acb4752"
      },
      "execution_count": null,
      "outputs": [
        {
          "output_type": "stream",
          "name": "stdout",
          "text": [
            "30\n"
          ]
        }
      ]
    },
    {
      "cell_type": "code",
      "source": [
        "canteen_menue['juice'] = [50,40,60]\n",
        "print(canteen_menue)"
      ],
      "metadata": {
        "colab": {
          "base_uri": "https://localhost:8080/"
        },
        "id": "6K_2fTeif_G8",
        "outputId": "01703771-9a9b-4a1e-8def-b1347f82c918"
      },
      "execution_count": null,
      "outputs": [
        {
          "output_type": "stream",
          "name": "stdout",
          "text": [
            "{'samosa': 10, 'pizza': 100, 'burger': 50, 'fruits': {'apple': 45, 'grapes': 35, 'mango': 30}, 'juice': [50, 40, 60]}\n"
          ]
        }
      ]
    },
    {
      "cell_type": "code",
      "source": [
        "print(canteen_menue['juice'][-1])"
      ],
      "metadata": {
        "colab": {
          "base_uri": "https://localhost:8080/"
        },
        "id": "7yGDXIyqgQTf",
        "outputId": "78fb7ca0-a592-484b-a23a-fd9722fb2a2f"
      },
      "execution_count": null,
      "outputs": [
        {
          "output_type": "stream",
          "name": "stdout",
          "text": [
            "60\n"
          ]
        }
      ]
    },
    {
      "cell_type": "markdown",
      "source": [
        "**Dictionary_Comprehension:-**"
      ],
      "metadata": {
        "id": "lP2-w1vHgfLr"
      }
    },
    {
      "cell_type": "code",
      "source": [
        "# Dict comprehensions are just like comprehensions but for dictionaries\n",
        "\n",
        "d = {\"a\":1,\"b\":2,\"c\":3}\n",
        "print(d)"
      ],
      "metadata": {
        "colab": {
          "base_uri": "https://localhost:8080/"
        },
        "id": "SNI7OYHPgZqc",
        "outputId": "e5f05f00-f30c-45d8-e4e8-1b150461ae5b"
      },
      "execution_count": null,
      "outputs": [
        {
          "output_type": "stream",
          "name": "stdout",
          "text": [
            "{'a': 1, 'b': 2, 'c': 3}\n"
          ]
        }
      ]
    },
    {
      "cell_type": "code",
      "source": [
        "for k,v in d.items():\n",
        "  print(k,\":\",v)"
      ],
      "metadata": {
        "colab": {
          "base_uri": "https://localhost:8080/"
        },
        "id": "awPMyTAOg932",
        "outputId": "0caebda6-0be8-430c-cfd7-a082919dadd5"
      },
      "execution_count": null,
      "outputs": [
        {
          "output_type": "stream",
          "name": "stdout",
          "text": [
            "a : 1\n",
            "b : 2\n",
            "c : 3\n"
          ]
        }
      ]
    },
    {
      "cell_type": "code",
      "source": [
        "# creating a new dictionary with only pairs where the value is larger than 2\n",
        "\n",
        "d = {\"a\":1,\"b\":2,\"c\":3,\"d\":4}\n",
        "n = {k:v for k,v in d.items() if v>=2}\n",
        "print(n)"
      ],
      "metadata": {
        "colab": {
          "base_uri": "https://localhost:8080/"
        },
        "id": "gSh1390ChKq6",
        "outputId": "b728d4b1-a204-4a3a-d7c2-ad88a5fc3569"
      },
      "execution_count": null,
      "outputs": [
        {
          "output_type": "stream",
          "name": "stdout",
          "text": [
            "{'b': 2, 'c': 3, 'd': 4}\n"
          ]
        }
      ]
    },
    {
      "cell_type": "code",
      "source": [
        "# operations on keys or values\n",
        "\n",
        "d = {\"a\":1,\"b\":2,\"c\":3,\"d\":4}\n",
        "n = {k+'z':v**2 for k,v in d.items() if v>=2}\n",
        "print(n)"
      ],
      "metadata": {
        "colab": {
          "base_uri": "https://localhost:8080/"
        },
        "id": "Z50lQiPfhuHB",
        "outputId": "73b70b5e-b875-48e8-aafe-b3e4f4d56db3"
      },
      "execution_count": null,
      "outputs": [
        {
          "output_type": "stream",
          "name": "stdout",
          "text": [
            "{'bz': 4, 'cz': 9, 'dz': 16}\n"
          ]
        }
      ]
    },
    {
      "cell_type": "code",
      "source": [
        "# Reverse a dictionary : key become value and value become key\n",
        "\n",
        "rev_d = dict()\n",
        "for k,v in d.items():\n",
        "  rev_d[v]=k\n",
        "print(rev_d)"
      ],
      "metadata": {
        "colab": {
          "base_uri": "https://localhost:8080/"
        },
        "id": "mNStYU_siOnn",
        "outputId": "a56eb0b2-09d0-4f8f-d5fc-1229267cc472"
      },
      "execution_count": null,
      "outputs": [
        {
          "output_type": "stream",
          "name": "stdout",
          "text": [
            "{1: 'a', 2: 'b', 3: 'c', 4: 'd'}\n"
          ]
        }
      ]
    },
    {
      "cell_type": "code",
      "source": [
        "# By using dict_comprehension\n",
        "\n",
        "rev_d = {v:k for k,v in d.items()}\n",
        "print(rev_d)"
      ],
      "metadata": {
        "colab": {
          "base_uri": "https://localhost:8080/"
        },
        "id": "1qP4CIE7ixRj",
        "outputId": "7dba5589-f8a5-472a-ea1b-41c91935cdf8"
      },
      "execution_count": null,
      "outputs": [
        {
          "output_type": "stream",
          "name": "stdout",
          "text": [
            "{1: 'a', 2: 'b', 3: 'c', 4: 'd'}\n"
          ]
        }
      ]
    },
    {
      "cell_type": "code",
      "source": [],
      "metadata": {
        "id": "iFNGeDjrjBP8"
      },
      "execution_count": null,
      "outputs": []
    }
  ]
}